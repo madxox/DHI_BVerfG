{
 "cells": [
  {
   "cell_type": "markdown",
   "metadata": {},
   "source": [
    "## BVerfG Datenanalyse 💻\n",
    "\n",
    "Dieses Notebook wertet den Korpus an Entscheidungen und Urteilen des BVerfG aus, der zugänglich unter https://zenodo.org/records/12705674 \"CE-BVerfG_2024-07-24_DE_CSV_Datensatz.zip\" ist.\n",
    "\n",
    "Der Korpus beinhaltet dabei eine Sammlung aller Entscheidungen, die vollständig in ihrer Natur sind. Es handelt sich dabei um eine Sammlung von ca. 9000 Urteilen, von 1951 bis 2024. "
   ]
  },
  {
   "cell_type": "code",
   "execution_count": 1,
   "metadata": {},
   "outputs": [],
   "source": [
    "# Separate Downloads, die einmalig getätigt werden sollten\n",
    "# SpaCy\n",
    "# pip install -U pip setuptools wheel\n",
    "# pip install -U spacy\n",
    "# python -m spacy download de_core_news_sm"
   ]
  },
  {
   "cell_type": "code",
   "execution_count": 2,
   "metadata": {},
   "outputs": [],
   "source": [
    "# Import packages\n",
    "import pandas as pd  \n",
    "import matplotlib.pyplot as plt  \n",
    "import seaborn as sns  \n",
    "import numpy as np\n",
    "\n",
    "# Text analysis\n",
    "import re\n",
    "import nltk "
   ]
  },
  {
   "cell_type": "markdown",
   "metadata": {},
   "source": [
    "## 1.0 Data Preparation\n",
    "Hier wird der Datensatz zum ersten Mal eingelesen und erste Abbildungen für ein erstes Erkunden des Datensatzes erstellt."
   ]
  },
  {
   "cell_type": "code",
   "execution_count": 3,
   "metadata": {},
   "outputs": [
    {
     "name": "stdout",
     "output_type": "stream",
     "text": [
      "<class 'pandas.core.frame.DataFrame'>\n",
      "RangeIndex: 8949 entries, 0 to 8948\n",
      "Data columns (total 37 columns):\n",
      " #   Column             Non-Null Count  Dtype  \n",
      "---  ------             --------------  -----  \n",
      " 0   doc_id             8949 non-null   object \n",
      " 1   text               8949 non-null   object \n",
      " 2   url_html           8949 non-null   object \n",
      " 3   url_pdf            8949 non-null   object \n",
      " 4   gericht            8949 non-null   object \n",
      " 5   datum              8949 non-null   object \n",
      " 6   entscheidungsjahr  8949 non-null   int64  \n",
      " 7   entscheidung_typ   8949 non-null   object \n",
      " 8   spruchkoerper_typ  8949 non-null   object \n",
      " 9   spruchkoerper_az   8939 non-null   float64\n",
      " 10  registerzeichen    8949 non-null   object \n",
      " 11  verfahrensart      8949 non-null   object \n",
      " 12  eingangsnummer     8949 non-null   int64  \n",
      " 13  eingangsjahr_az    8949 non-null   int64  \n",
      " 14  eingangsjahr_iso   8949 non-null   int64  \n",
      " 15  kollision          44 non-null     object \n",
      " 16  name               921 non-null    object \n",
      " 17  bverfge            8949 non-null   bool   \n",
      " 18  band               921 non-null    float64\n",
      " 19  seite              921 non-null    float64\n",
      " 20  aktenzeichen       8949 non-null   object \n",
      " 21  aktenzeichen_alle  8942 non-null   object \n",
      " 22  ecli               8949 non-null   object \n",
      " 23  zitiervorschlag    8949 non-null   object \n",
      " 24  kurzbeschreibung   8552 non-null   object \n",
      " 25  pressemitteilung   2079 non-null   object \n",
      " 26  praesi             8949 non-null   object \n",
      " 27  v_praesi           8949 non-null   object \n",
      " 28  richter            8925 non-null   object \n",
      " 29  zeichen            8949 non-null   int64  \n",
      " 30  tokens             8949 non-null   int64  \n",
      " 31  typen              8949 non-null   int64  \n",
      " 32  saetze             8949 non-null   int64  \n",
      " 33  version            8949 non-null   object \n",
      " 34  doi_concept        8949 non-null   object \n",
      " 35  doi_version        8949 non-null   object \n",
      " 36  lizenz             8949 non-null   object \n",
      "dtypes: bool(1), float64(3), int64(8), object(25)\n",
      "memory usage: 2.5+ MB\n",
      "None\n"
     ]
    },
    {
     "data": {
      "text/html": [
       "<div>\n",
       "<style scoped>\n",
       "    .dataframe tbody tr th:only-of-type {\n",
       "        vertical-align: middle;\n",
       "    }\n",
       "\n",
       "    .dataframe tbody tr th {\n",
       "        vertical-align: top;\n",
       "    }\n",
       "\n",
       "    .dataframe thead th {\n",
       "        text-align: right;\n",
       "    }\n",
       "</style>\n",
       "<table border=\"1\" class=\"dataframe\">\n",
       "  <thead>\n",
       "    <tr style=\"text-align: right;\">\n",
       "      <th></th>\n",
       "      <th>doc_id</th>\n",
       "      <th>text</th>\n",
       "      <th>url_html</th>\n",
       "      <th>url_pdf</th>\n",
       "      <th>gericht</th>\n",
       "      <th>datum</th>\n",
       "      <th>entscheidungsjahr</th>\n",
       "      <th>entscheidung_typ</th>\n",
       "      <th>spruchkoerper_typ</th>\n",
       "      <th>spruchkoerper_az</th>\n",
       "      <th>...</th>\n",
       "      <th>v_praesi</th>\n",
       "      <th>richter</th>\n",
       "      <th>zeichen</th>\n",
       "      <th>tokens</th>\n",
       "      <th>typen</th>\n",
       "      <th>saetze</th>\n",
       "      <th>version</th>\n",
       "      <th>doi_concept</th>\n",
       "      <th>doi_version</th>\n",
       "      <th>lizenz</th>\n",
       "    </tr>\n",
       "  </thead>\n",
       "  <tbody>\n",
       "    <tr>\n",
       "      <th>0</th>\n",
       "      <td>BVerfG_1951-09-09_S_2_BvQ_0001_51_NA_Südwestst...</td>\n",
       "      <td>BUNDESVERFASSUNGSGERICHT\\n\\n- 2 BvQ 1/51 -\\n\\n...</td>\n",
       "      <td>https://www.bundesverfassungsgericht.de/Shared...</td>\n",
       "      <td>https://www.bundesverfassungsgericht.de/Shared...</td>\n",
       "      <td>BVerfG</td>\n",
       "      <td>1951-09-09</td>\n",
       "      <td>1951</td>\n",
       "      <td>B</td>\n",
       "      <td>S</td>\n",
       "      <td>2.0</td>\n",
       "      <td>...</td>\n",
       "      <td>Katz</td>\n",
       "      <td>Dr. Katz|Dr. Fröhlich|Wolff|Dr. Roediger|Dr. K...</td>\n",
       "      <td>5869</td>\n",
       "      <td>759</td>\n",
       "      <td>324</td>\n",
       "      <td>61</td>\n",
       "      <td>2024-07-24</td>\n",
       "      <td>10.5281/zenodo.3902658</td>\n",
       "      <td>10.5281/zenodo.12705674</td>\n",
       "      <td>Creative Commons Zero 1.0 Universal (CC Zero 1.0)</td>\n",
       "    </tr>\n",
       "    <tr>\n",
       "      <th>1</th>\n",
       "      <td>BVerfG_1952-09-10_S_1_BvR_0379_52_NA_Fristlauf...</td>\n",
       "      <td>Leitsätze\\n\\n   zum ...</td>\n",
       "      <td>https://www.bundesverfassungsgericht.de/Shared...</td>\n",
       "      <td>https://www.bundesverfassungsgericht.de/Shared...</td>\n",
       "      <td>BVerfG</td>\n",
       "      <td>1952-09-10</td>\n",
       "      <td>1952</td>\n",
       "      <td>B</td>\n",
       "      <td>S</td>\n",
       "      <td>1.0</td>\n",
       "      <td>...</td>\n",
       "      <td>Katz</td>\n",
       "      <td>Dr. Dr.|Höpker-Aschoff|Ellinghaus|Dr. Scheffle...</td>\n",
       "      <td>7489</td>\n",
       "      <td>1074</td>\n",
       "      <td>411</td>\n",
       "      <td>81</td>\n",
       "      <td>2024-07-24</td>\n",
       "      <td>10.5281/zenodo.3902658</td>\n",
       "      <td>10.5281/zenodo.12705674</td>\n",
       "      <td>Creative Commons Zero 1.0 Universal (CC Zero 1.0)</td>\n",
       "    </tr>\n",
       "    <tr>\n",
       "      <th>2</th>\n",
       "      <td>BVerfG_1952-10-10_S_1_BvR_0511_52_NA_BGH-Straf...</td>\n",
       "      <td>Leitsätze\\n\\n\\n   zu...</td>\n",
       "      <td>https://www.bundesverfassungsgericht.de/Shared...</td>\n",
       "      <td>https://www.bundesverfassungsgericht.de/Shared...</td>\n",
       "      <td>BVerfG</td>\n",
       "      <td>1952-10-10</td>\n",
       "      <td>1952</td>\n",
       "      <td>B</td>\n",
       "      <td>S</td>\n",
       "      <td>1.0</td>\n",
       "      <td>...</td>\n",
       "      <td>Katz</td>\n",
       "      <td>Dr. Dr.|Höpker-Aschoff|Ellinghaus|Dr. Heiland|...</td>\n",
       "      <td>5061</td>\n",
       "      <td>706</td>\n",
       "      <td>283</td>\n",
       "      <td>57</td>\n",
       "      <td>2024-07-24</td>\n",
       "      <td>10.5281/zenodo.3902658</td>\n",
       "      <td>10.5281/zenodo.12705674</td>\n",
       "      <td>Creative Commons Zero 1.0 Universal (CC Zero 1.0)</td>\n",
       "    </tr>\n",
       "  </tbody>\n",
       "</table>\n",
       "<p>3 rows × 37 columns</p>\n",
       "</div>"
      ],
      "text/plain": [
       "                                              doc_id  \\\n",
       "0  BVerfG_1951-09-09_S_2_BvQ_0001_51_NA_Südwestst...   \n",
       "1  BVerfG_1952-09-10_S_1_BvR_0379_52_NA_Fristlauf...   \n",
       "2  BVerfG_1952-10-10_S_1_BvR_0511_52_NA_BGH-Straf...   \n",
       "\n",
       "                                                text  \\\n",
       "0  BUNDESVERFASSUNGSGERICHT\\n\\n- 2 BvQ 1/51 -\\n\\n...   \n",
       "1                            Leitsätze\\n\\n   zum ...   \n",
       "2                            Leitsätze\\n\\n\\n   zu...   \n",
       "\n",
       "                                            url_html  \\\n",
       "0  https://www.bundesverfassungsgericht.de/Shared...   \n",
       "1  https://www.bundesverfassungsgericht.de/Shared...   \n",
       "2  https://www.bundesverfassungsgericht.de/Shared...   \n",
       "\n",
       "                                             url_pdf gericht       datum  \\\n",
       "0  https://www.bundesverfassungsgericht.de/Shared...  BVerfG  1951-09-09   \n",
       "1  https://www.bundesverfassungsgericht.de/Shared...  BVerfG  1952-09-10   \n",
       "2  https://www.bundesverfassungsgericht.de/Shared...  BVerfG  1952-10-10   \n",
       "\n",
       "   entscheidungsjahr entscheidung_typ spruchkoerper_typ  spruchkoerper_az  \\\n",
       "0               1951                B                 S               2.0   \n",
       "1               1952                B                 S               1.0   \n",
       "2               1952                B                 S               1.0   \n",
       "\n",
       "   ... v_praesi                                            richter  zeichen  \\\n",
       "0  ...     Katz  Dr. Katz|Dr. Fröhlich|Wolff|Dr. Roediger|Dr. K...     5869   \n",
       "1  ...     Katz  Dr. Dr.|Höpker-Aschoff|Ellinghaus|Dr. Scheffle...     7489   \n",
       "2  ...     Katz  Dr. Dr.|Höpker-Aschoff|Ellinghaus|Dr. Heiland|...     5061   \n",
       "\n",
       "   tokens  typen saetze     version             doi_concept  \\\n",
       "0     759    324     61  2024-07-24  10.5281/zenodo.3902658   \n",
       "1    1074    411     81  2024-07-24  10.5281/zenodo.3902658   \n",
       "2     706    283     57  2024-07-24  10.5281/zenodo.3902658   \n",
       "\n",
       "               doi_version                                             lizenz  \n",
       "0  10.5281/zenodo.12705674  Creative Commons Zero 1.0 Universal (CC Zero 1.0)  \n",
       "1  10.5281/zenodo.12705674  Creative Commons Zero 1.0 Universal (CC Zero 1.0)  \n",
       "2  10.5281/zenodo.12705674  Creative Commons Zero 1.0 Universal (CC Zero 1.0)  \n",
       "\n",
       "[3 rows x 37 columns]"
      ]
     },
     "execution_count": 3,
     "metadata": {},
     "output_type": "execute_result"
    }
   ],
   "source": [
    "df = pd.read_csv(\"data/CE-BVerfG_2024_Datensatz.csv\")\n",
    "print(df.info())\n",
    "df.head(3)"
   ]
  },
  {
   "cell_type": "code",
   "execution_count": 4,
   "metadata": {},
   "outputs": [
    {
     "data": {
      "text/plain": [
       "spruchkoerper_az       10\n",
       "kollision            8905\n",
       "name                 8028\n",
       "band                 8028\n",
       "seite                8028\n",
       "aktenzeichen_alle       7\n",
       "kurzbeschreibung      397\n",
       "pressemitteilung     6870\n",
       "richter                24\n",
       "dtype: int64"
      ]
     },
     "execution_count": 4,
     "metadata": {},
     "output_type": "execute_result"
    }
   ],
   "source": [
    "# Null values\n",
    "df.isna().sum()[df.isna().sum() > 0]"
   ]
  },
  {
   "cell_type": "markdown",
   "metadata": {},
   "source": [
    "### 1.1 Cleanup 🫧\n",
    "Der Datensatz wird im folgenden Teil für die weitere Verarbeitung aufbereitet und gereinigt."
   ]
  },
  {
   "cell_type": "code",
   "execution_count": 5,
   "metadata": {},
   "outputs": [],
   "source": [
    "# Richter maybe to use later on... TODO\n",
    "df_richter = df[\"richter\"].str.split('|', expand=True)\n",
    "\n",
    "df_richter = df_richter.replace(\"Dr. Dr.\", None).dropna(axis=1, how=\"all\")\n",
    "\n",
    "df_richter.columns = [f\"richter_{i+1}\" for i in range(df_richter.shape[1])]\n",
    "\n",
    "df = df.join(df_richter)"
   ]
  },
  {
   "cell_type": "code",
   "execution_count": 6,
   "metadata": {},
   "outputs": [
    {
     "data": {
      "text/plain": [
       "Index(['doc_id', 'text', 'url_html', 'url_pdf', 'gericht', 'datum',\n",
       "       'entscheidungsjahr', 'entscheidung_typ', 'spruchkoerper_typ',\n",
       "       'spruchkoerper_az', 'registerzeichen', 'verfahrensart',\n",
       "       'eingangsnummer', 'eingangsjahr_az', 'eingangsjahr_iso', 'kollision',\n",
       "       'name', 'bverfge', 'band', 'seite', 'aktenzeichen', 'aktenzeichen_alle',\n",
       "       'ecli', 'zitiervorschlag', 'kurzbeschreibung', 'pressemitteilung',\n",
       "       'praesi', 'v_praesi', 'richter', 'zeichen', 'tokens', 'typen', 'saetze',\n",
       "       'version', 'doi_concept', 'doi_version', 'lizenz', 'richter_1',\n",
       "       'richter_2', 'richter_3', 'richter_4', 'richter_5', 'richter_6',\n",
       "       'richter_7', 'richter_8', 'richter_9', 'richter_10', 'richter_11',\n",
       "       'richter_12', 'richter_13', 'richter_14', 'richter_15', 'richter_16'],\n",
       "      dtype='object')"
      ]
     },
     "execution_count": 6,
     "metadata": {},
     "output_type": "execute_result"
    }
   ],
   "source": [
    "df.columns"
   ]
  },
  {
   "cell_type": "code",
   "execution_count": 7,
   "metadata": {},
   "outputs": [],
   "source": [
    "# Folgende Features können verworfen werden:\n",
    "df_drop = df.drop([\n",
    "    'gericht', 'url_pdf',\n",
    "    'verfahrensart', # Registerzeichen nur ausgeschrieben\n",
    "       'eingangsnummer', 'eingangsjahr_az', 'eingangsjahr_iso',\n",
    "         'kollision', # Könnte eventuell noch interessant TODO check?\n",
    "    'name', 'bverfge', 'band', 'seite', 'aktenzeichen', 'aktenzeichen_alle',\n",
    "       'ecli', 'zitiervorschlag', 'kurzbeschreibung', \n",
    "       #'pressemitteilung',\n",
    "       'praesi', 'v_praesi', 'richter',\n",
    "       'version', 'doi_concept', 'doi_version', 'lizenz'\n",
    "                   ], axis=1) "
   ]
  },
  {
   "cell_type": "code",
   "execution_count": 8,
   "metadata": {},
   "outputs": [
    {
     "name": "stdout",
     "output_type": "stream",
     "text": [
      "Null values:\n",
      "spruchkoerper_az      10\n",
      "pressemitteilung    6870\n",
      "richter_1             26\n",
      "richter_2             29\n",
      "richter_3             31\n",
      "richter_4           7446\n",
      "richter_5           7458\n",
      "richter_6           7460\n",
      "richter_7           7498\n",
      "richter_8           7760\n",
      "richter_9           8910\n",
      "richter_10          8917\n",
      "richter_11          8926\n",
      "richter_12          8943\n",
      "richter_13          8944\n",
      "richter_14          8947\n",
      "richter_15          8947\n",
      "richter_16          8948\n",
      "dtype: int64 \n",
      "\n",
      "Data types:\n",
      "doc_id                object\n",
      "text                  object\n",
      "url_html              object\n",
      "datum                 object\n",
      "entscheidungsjahr      int64\n",
      "entscheidung_typ      object\n",
      "spruchkoerper_typ     object\n",
      "spruchkoerper_az     float64\n",
      "registerzeichen       object\n",
      "pressemitteilung      object\n",
      "zeichen                int64\n",
      "tokens                 int64\n",
      "typen                  int64\n",
      "saetze                 int64\n",
      "richter_1             object\n",
      "richter_2             object\n",
      "richter_3             object\n",
      "richter_4             object\n",
      "richter_5             object\n",
      "richter_6             object\n",
      "richter_7             object\n",
      "richter_8             object\n",
      "richter_9             object\n",
      "richter_10            object\n",
      "richter_11            object\n",
      "richter_12            object\n",
      "richter_13            object\n",
      "richter_14            object\n",
      "richter_15            object\n",
      "richter_16            object\n",
      "dtype: object\n"
     ]
    }
   ],
   "source": [
    "print(\"Null values:\")\n",
    "print(df_drop.isna().sum()[df_drop.isna().sum() > 0],\"\\n\")\n",
    "print(\"Data types:\")\n",
    "print(df_drop.dtypes)"
   ]
  },
  {
   "cell_type": "code",
   "execution_count": 2,
   "metadata": {},
   "outputs": [],
   "source": [
    "############ TODO: daten vergleichen ?? Datum nicht korrekt ausgelesen?"
   ]
  },
  {
   "cell_type": "code",
   "execution_count": null,
   "metadata": {},
   "outputs": [],
   "source": []
  },
  {
   "cell_type": "code",
   "execution_count": null,
   "metadata": {},
   "outputs": [],
   "source": []
  },
  {
   "cell_type": "code",
   "execution_count": null,
   "metadata": {},
   "outputs": [],
   "source": []
  },
  {
   "cell_type": "code",
   "execution_count": null,
   "metadata": {},
   "outputs": [],
   "source": []
  },
  {
   "cell_type": "code",
   "execution_count": null,
   "metadata": {},
   "outputs": [],
   "source": []
  },
  {
   "cell_type": "code",
   "execution_count": null,
   "metadata": {},
   "outputs": [],
   "source": []
  },
  {
   "cell_type": "code",
   "execution_count": 9,
   "metadata": {},
   "outputs": [],
   "source": [
    "# Ändere den Datentyp von Datum zu datetime\n",
    "df_drop[\"datum\"] = pd.to_datetime(df_drop[\"datum\"])\n",
    "df_drop[\"entscheidungsjahr\"] = df_drop[\"datum\"].dt.year"
   ]
  },
  {
   "cell_type": "code",
   "execution_count": 10,
   "metadata": {},
   "outputs": [],
   "source": [
    "# spruchkoerper_az ist entweder 1 oder 2; NaN-values sind \"Verzögerungsbeschwerden\"\n",
    "# NaN-Values werden mit 0 für Vereinfachung von Processing markiert\n",
    "df_drop[\"spruchkoerper_az\"] = df_drop[\"spruchkoerper_az\"].fillna(0)\n",
    "\n",
    "# Zusätzliches Umwandeln von float zu int\n",
    "df_drop[\"spruchkoerper_az\"] = df_drop[\"spruchkoerper_az\"].astype(int)"
   ]
  },
  {
   "cell_type": "code",
   "execution_count": 11,
   "metadata": {},
   "outputs": [
    {
     "name": "stdout",
     "output_type": "stream",
     "text": [
      "Null values:\n",
      "pressemitteilung    6870\n",
      "richter_1             26\n",
      "richter_2             29\n",
      "richter_3             31\n",
      "richter_4           7446\n",
      "richter_5           7458\n",
      "richter_6           7460\n",
      "richter_7           7498\n",
      "richter_8           7760\n",
      "richter_9           8910\n",
      "richter_10          8917\n",
      "richter_11          8926\n",
      "richter_12          8943\n",
      "richter_13          8944\n",
      "richter_14          8947\n",
      "richter_15          8947\n",
      "richter_16          8948\n",
      "dtype: int64 \n",
      "\n",
      "Data types:\n",
      "doc_id                       object\n",
      "text                         object\n",
      "url_html                     object\n",
      "datum                datetime64[ns]\n",
      "entscheidungsjahr             int32\n",
      "entscheidung_typ             object\n",
      "spruchkoerper_typ            object\n",
      "spruchkoerper_az              int32\n",
      "registerzeichen              object\n",
      "pressemitteilung             object\n",
      "zeichen                       int64\n",
      "tokens                        int64\n",
      "typen                         int64\n",
      "saetze                        int64\n",
      "richter_1                    object\n",
      "richter_2                    object\n",
      "richter_3                    object\n",
      "richter_4                    object\n",
      "richter_5                    object\n",
      "richter_6                    object\n",
      "richter_7                    object\n",
      "richter_8                    object\n",
      "richter_9                    object\n",
      "richter_10                   object\n",
      "richter_11                   object\n",
      "richter_12                   object\n",
      "richter_13                   object\n",
      "richter_14                   object\n",
      "richter_15                   object\n",
      "richter_16                   object\n",
      "dtype: object\n"
     ]
    }
   ],
   "source": [
    "print(\"Null values:\")\n",
    "print(df_drop.isna().sum()[df_drop.isna().sum() > 0],\"\\n\")\n",
    "print(\"Data types:\")\n",
    "print(df_drop.dtypes)"
   ]
  },
  {
   "cell_type": "code",
   "execution_count": 12,
   "metadata": {},
   "outputs": [
    {
     "name": "stdout",
     "output_type": "stream",
     "text": [
      "[1951 1952 1957 1958 1959 1973 1977 1983 1991 1992 1993 1994 1995 1996\n",
      " 1997 1998 1999 2000 2001 2002 2003 2004 2005 2006 2007 2008 2009 2010\n",
      " 2011 2012 2013 2014 2015 2016 2017 2018 2019 2020 2021 2022 2023 2024]\n"
     ]
    },
    {
     "data": {
      "text/html": [
       "<div>\n",
       "<style scoped>\n",
       "    .dataframe tbody tr th:only-of-type {\n",
       "        vertical-align: middle;\n",
       "    }\n",
       "\n",
       "    .dataframe tbody tr th {\n",
       "        vertical-align: top;\n",
       "    }\n",
       "\n",
       "    .dataframe thead th {\n",
       "        text-align: right;\n",
       "    }\n",
       "</style>\n",
       "<table border=\"1\" class=\"dataframe\">\n",
       "  <thead>\n",
       "    <tr style=\"text-align: right;\">\n",
       "      <th></th>\n",
       "      <th>entscheidungsjahr</th>\n",
       "      <th>doc_id</th>\n",
       "    </tr>\n",
       "  </thead>\n",
       "  <tbody>\n",
       "    <tr>\n",
       "      <th>0</th>\n",
       "      <td>1951</td>\n",
       "      <td>1</td>\n",
       "    </tr>\n",
       "    <tr>\n",
       "      <th>1</th>\n",
       "      <td>1952</td>\n",
       "      <td>2</td>\n",
       "    </tr>\n",
       "    <tr>\n",
       "      <th>2</th>\n",
       "      <td>1957</td>\n",
       "      <td>1</td>\n",
       "    </tr>\n",
       "    <tr>\n",
       "      <th>3</th>\n",
       "      <td>1958</td>\n",
       "      <td>1</td>\n",
       "    </tr>\n",
       "    <tr>\n",
       "      <th>4</th>\n",
       "      <td>1959</td>\n",
       "      <td>1</td>\n",
       "    </tr>\n",
       "    <tr>\n",
       "      <th>5</th>\n",
       "      <td>1973</td>\n",
       "      <td>1</td>\n",
       "    </tr>\n",
       "    <tr>\n",
       "      <th>6</th>\n",
       "      <td>1977</td>\n",
       "      <td>1</td>\n",
       "    </tr>\n",
       "    <tr>\n",
       "      <th>7</th>\n",
       "      <td>1983</td>\n",
       "      <td>2</td>\n",
       "    </tr>\n",
       "    <tr>\n",
       "      <th>8</th>\n",
       "      <td>1991</td>\n",
       "      <td>1</td>\n",
       "    </tr>\n",
       "    <tr>\n",
       "      <th>9</th>\n",
       "      <td>1992</td>\n",
       "      <td>22</td>\n",
       "    </tr>\n",
       "    <tr>\n",
       "      <th>10</th>\n",
       "      <td>1993</td>\n",
       "      <td>22</td>\n",
       "    </tr>\n",
       "    <tr>\n",
       "      <th>11</th>\n",
       "      <td>1994</td>\n",
       "      <td>34</td>\n",
       "    </tr>\n",
       "    <tr>\n",
       "      <th>12</th>\n",
       "      <td>1995</td>\n",
       "      <td>31</td>\n",
       "    </tr>\n",
       "    <tr>\n",
       "      <th>13</th>\n",
       "      <td>1996</td>\n",
       "      <td>40</td>\n",
       "    </tr>\n",
       "    <tr>\n",
       "      <th>14</th>\n",
       "      <td>1997</td>\n",
       "      <td>74</td>\n",
       "    </tr>\n",
       "    <tr>\n",
       "      <th>15</th>\n",
       "      <td>1998</td>\n",
       "      <td>322</td>\n",
       "    </tr>\n",
       "    <tr>\n",
       "      <th>16</th>\n",
       "      <td>1999</td>\n",
       "      <td>367</td>\n",
       "    </tr>\n",
       "    <tr>\n",
       "      <th>17</th>\n",
       "      <td>2000</td>\n",
       "      <td>418</td>\n",
       "    </tr>\n",
       "    <tr>\n",
       "      <th>18</th>\n",
       "      <td>2001</td>\n",
       "      <td>442</td>\n",
       "    </tr>\n",
       "    <tr>\n",
       "      <th>19</th>\n",
       "      <td>2002</td>\n",
       "      <td>419</td>\n",
       "    </tr>\n",
       "    <tr>\n",
       "      <th>20</th>\n",
       "      <td>2003</td>\n",
       "      <td>312</td>\n",
       "    </tr>\n",
       "    <tr>\n",
       "      <th>21</th>\n",
       "      <td>2004</td>\n",
       "      <td>321</td>\n",
       "    </tr>\n",
       "    <tr>\n",
       "      <th>22</th>\n",
       "      <td>2005</td>\n",
       "      <td>266</td>\n",
       "    </tr>\n",
       "    <tr>\n",
       "      <th>23</th>\n",
       "      <td>2006</td>\n",
       "      <td>319</td>\n",
       "    </tr>\n",
       "    <tr>\n",
       "      <th>24</th>\n",
       "      <td>2007</td>\n",
       "      <td>247</td>\n",
       "    </tr>\n",
       "    <tr>\n",
       "      <th>25</th>\n",
       "      <td>2008</td>\n",
       "      <td>365</td>\n",
       "    </tr>\n",
       "    <tr>\n",
       "      <th>26</th>\n",
       "      <td>2009</td>\n",
       "      <td>363</td>\n",
       "    </tr>\n",
       "    <tr>\n",
       "      <th>27</th>\n",
       "      <td>2010</td>\n",
       "      <td>330</td>\n",
       "    </tr>\n",
       "    <tr>\n",
       "      <th>28</th>\n",
       "      <td>2011</td>\n",
       "      <td>298</td>\n",
       "    </tr>\n",
       "    <tr>\n",
       "      <th>29</th>\n",
       "      <td>2012</td>\n",
       "      <td>284</td>\n",
       "    </tr>\n",
       "    <tr>\n",
       "      <th>30</th>\n",
       "      <td>2013</td>\n",
       "      <td>208</td>\n",
       "    </tr>\n",
       "    <tr>\n",
       "      <th>31</th>\n",
       "      <td>2014</td>\n",
       "      <td>229</td>\n",
       "    </tr>\n",
       "    <tr>\n",
       "      <th>32</th>\n",
       "      <td>2015</td>\n",
       "      <td>318</td>\n",
       "    </tr>\n",
       "    <tr>\n",
       "      <th>33</th>\n",
       "      <td>2016</td>\n",
       "      <td>397</td>\n",
       "    </tr>\n",
       "    <tr>\n",
       "      <th>34</th>\n",
       "      <td>2017</td>\n",
       "      <td>364</td>\n",
       "    </tr>\n",
       "    <tr>\n",
       "      <th>35</th>\n",
       "      <td>2018</td>\n",
       "      <td>277</td>\n",
       "    </tr>\n",
       "    <tr>\n",
       "      <th>36</th>\n",
       "      <td>2019</td>\n",
       "      <td>279</td>\n",
       "    </tr>\n",
       "    <tr>\n",
       "      <th>37</th>\n",
       "      <td>2020</td>\n",
       "      <td>511</td>\n",
       "    </tr>\n",
       "    <tr>\n",
       "      <th>38</th>\n",
       "      <td>2021</td>\n",
       "      <td>348</td>\n",
       "    </tr>\n",
       "    <tr>\n",
       "      <th>39</th>\n",
       "      <td>2022</td>\n",
       "      <td>308</td>\n",
       "    </tr>\n",
       "    <tr>\n",
       "      <th>40</th>\n",
       "      <td>2023</td>\n",
       "      <td>307</td>\n",
       "    </tr>\n",
       "    <tr>\n",
       "      <th>41</th>\n",
       "      <td>2024</td>\n",
       "      <td>96</td>\n",
       "    </tr>\n",
       "  </tbody>\n",
       "</table>\n",
       "</div>"
      ],
      "text/plain": [
       "    entscheidungsjahr  doc_id\n",
       "0                1951       1\n",
       "1                1952       2\n",
       "2                1957       1\n",
       "3                1958       1\n",
       "4                1959       1\n",
       "5                1973       1\n",
       "6                1977       1\n",
       "7                1983       2\n",
       "8                1991       1\n",
       "9                1992      22\n",
       "10               1993      22\n",
       "11               1994      34\n",
       "12               1995      31\n",
       "13               1996      40\n",
       "14               1997      74\n",
       "15               1998     322\n",
       "16               1999     367\n",
       "17               2000     418\n",
       "18               2001     442\n",
       "19               2002     419\n",
       "20               2003     312\n",
       "21               2004     321\n",
       "22               2005     266\n",
       "23               2006     319\n",
       "24               2007     247\n",
       "25               2008     365\n",
       "26               2009     363\n",
       "27               2010     330\n",
       "28               2011     298\n",
       "29               2012     284\n",
       "30               2013     208\n",
       "31               2014     229\n",
       "32               2015     318\n",
       "33               2016     397\n",
       "34               2017     364\n",
       "35               2018     277\n",
       "36               2019     279\n",
       "37               2020     511\n",
       "38               2021     348\n",
       "39               2022     308\n",
       "40               2023     307\n",
       "41               2024      96"
      ]
     },
     "execution_count": 12,
     "metadata": {},
     "output_type": "execute_result"
    }
   ],
   "source": [
    "# Check welche Entscheidungen aus welchen Jahren im Datensatz vorhanden sind, und wie viele vorliegen\n",
    "print(df_drop[\"entscheidungsjahr\"].unique())\n",
    "df_drop[[\"doc_id\",\"entscheidungsjahr\"]].groupby(\"entscheidungsjahr\").agg(\"count\").reset_index()"
   ]
  },
  {
   "cell_type": "code",
   "execution_count": 13,
   "metadata": {},
   "outputs": [
    {
     "name": "stdout",
     "output_type": "stream",
     "text": [
      "Ältester Eintrag:  1951-09-09 00:00:00\n",
      "Neuster Eintrag:  2024-07-02 00:00:00\n"
     ]
    }
   ],
   "source": [
    "print(\"Ältester Eintrag: \", df_drop[\"datum\"].min())\n",
    "print(\"Neuster Eintrag: \", df_drop[\"datum\"].max())\n"
   ]
  },
  {
   "cell_type": "markdown",
   "metadata": {},
   "source": [
    "Der Datensatz bildet ein teilweise vollständiges Abbild aller Entscheidungen ab. Allerdings sind laut Autor nur vollständige Entscheidungen aufgenommen worden, und damit auch solche die über die eigene Webseite des BVerfG auch verfügbar sind (sowohl als .html als auch .pdf). \n",
    "\n",
    "Dies ist nur ein kleiner Ausschnitt an Entscheidungen. Seit Gründung des BVerfG 1951, sind schätzungsweise 245.000 Verfassungsbeschwerden eingegangen. Da diese allerdings nicht frei zugänglich sind, und dies ein Scraping ausschließt, wird sich lediglich auf die ca. 9000 vollständingen Entscheidungen beschränkt.  "
   ]
  },
  {
   "cell_type": "markdown",
   "metadata": {},
   "source": [
    "### 1.2 Exploratory Data Analysis (EDA) 🩻\n",
    "Erste Abbildungen über den Datensatz um interessante Strukturen möglicherweise hervorzuheben, und möglicherweise weitere Clean-up Möglichkeiten aufzudecken."
   ]
  },
  {
   "cell_type": "code",
   "execution_count": 14,
   "metadata": {},
   "outputs": [
    {
     "data": {
      "text/plain": [
       "Text(0.5, 1.0, 'Anzahl an Entscheidungen nach Verfahrensart')"
      ]
     },
     "execution_count": 14,
     "metadata": {},
     "output_type": "execute_result"
    },
    {
     "data": {
      "image/png": "[encoded data removed]",
      "text/plain": [
       "<Figure size 800x600 with 1 Axes>"
      ]
     },
     "metadata": {},
     "output_type": "display_data"
    }
   ],
   "source": [
    "fig = plt.figure(figsize=(8,6))\n",
    "sns.countplot(df_drop, x=\"registerzeichen\", hue=\"registerzeichen\", palette=\"rocket\", legend=False)\n",
    "plt.xlabel(\"Registerzeichen\")\n",
    "plt.ylabel(\"Anzahl an Entscheidungen\")\n",
    "plt.title(\"Anzahl an Entscheidungen nach Verfahrensart\")"
   ]
  },
  {
   "cell_type": "code",
   "execution_count": 15,
   "metadata": {},
   "outputs": [
    {
     "data": {
      "text/plain": [
       "Index(['doc_id', 'text', 'url_html', 'datum', 'entscheidungsjahr',\n",
       "       'entscheidung_typ', 'spruchkoerper_typ', 'spruchkoerper_az',\n",
       "       'registerzeichen', 'pressemitteilung', 'zeichen', 'tokens', 'typen',\n",
       "       'saetze', 'richter_1', 'richter_2', 'richter_3', 'richter_4',\n",
       "       'richter_5', 'richter_6', 'richter_7', 'richter_8', 'richter_9',\n",
       "       'richter_10', 'richter_11', 'richter_12', 'richter_13', 'richter_14',\n",
       "       'richter_15', 'richter_16'],\n",
       "      dtype='object')"
      ]
     },
     "execution_count": 15,
     "metadata": {},
     "output_type": "execute_result"
    }
   ],
   "source": [
    "df_drop.columns"
   ]
  },
  {
   "cell_type": "code",
   "execution_count": 16,
   "metadata": {},
   "outputs": [
    {
     "data": {
      "text/plain": [
       "Text(0.5, 1.0, 'Anzahl an Entscheidungen nach Sprüchkörper-Typen')"
      ]
     },
     "execution_count": 16,
     "metadata": {},
     "output_type": "execute_result"
    },
    {
     "data": {
      "image/png": "[encoded data removed]",
      "text/plain": [
       "<Figure size 800x600 with 1 Axes>"
      ]
     },
     "metadata": {},
     "output_type": "display_data"
    }
   ],
   "source": [
    "fig = plt.figure(figsize=(8,6))\n",
    "sns.countplot(df_drop, x=\"spruchkoerper_typ\")\n",
    "plt.xlabel(\"Spruchkörper-Typ\")\n",
    "plt.ylabel(\"Anzahl des Typen\")\n",
    "plt.title(\"Anzahl an Entscheidungen nach Sprüchkörper-Typen\")"
   ]
  },
  {
   "cell_type": "code",
   "execution_count": 17,
   "metadata": {},
   "outputs": [
    {
     "name": "stdout",
     "output_type": "stream",
     "text": [
      "Anzahl an P-Entscheidungen:  2\n",
      "Anzahl an B-Entscheidungen:  10\n"
     ]
    }
   ],
   "source": [
    "print(\"Anzahl an P-Entscheidungen: \",df_drop[df_drop[\"spruchkoerper_typ\"] == \"P\"].shape[0])\n",
    "print(\"Anzahl an B-Entscheidungen: \",df_drop[df_drop[\"spruchkoerper_typ\"] == \"B\"].shape[0])"
   ]
  },
  {
   "cell_type": "code",
   "execution_count": 18,
   "metadata": {},
   "outputs": [
    {
     "data": {
      "text/plain": [
       "Text(0.5, 1.0, 'Entscheidungen pro Jahr')"
      ]
     },
     "execution_count": 18,
     "metadata": {},
     "output_type": "execute_result"
    },
    {
     "data": {
      "image/png": "[encoded data removed]",
      "text/plain": [
       "<Figure size 800x500 with 1 Axes>"
      ]
     },
     "metadata": {},
     "output_type": "display_data"
    }
   ],
   "source": [
    "# Plot mit Entscheidungne pro Jahr\n",
    "fig = plt.figure(figsize=(8,5))\n",
    "sns.histplot(df_drop, x=\"entscheidungsjahr\")\n",
    "plt.xlabel(\"Entscheidungsjahr\")\n",
    "plt.ylabel(\"Anzahl an Entscheidungen\")\n",
    "plt.title(\"Entscheidungen pro Jahr\")"
   ]
  },
  {
   "cell_type": "markdown",
   "metadata": {},
   "source": [
    "Diese Abbildung ist nicht so aussagend, vor dem Hintegrund dass es sich hierbei um vollständige Entscheidungen handelt, nicht alle möglichen, die in dem Jahr auch tatsächlich getätigt worden sind."
   ]
  },
  {
   "cell_type": "code",
   "execution_count": 19,
   "metadata": {},
   "outputs": [
    {
     "data": {
      "image/png": "[encoded data removed]",
      "text/plain": [
       "<Figure size 1000x500 with 2 Axes>"
      ]
     },
     "metadata": {},
     "output_type": "display_data"
    }
   ],
   "source": [
    "# Histogram for tokens and types\n",
    "fig, axs = plt.subplots(1, 2, figsize=(10, 5))\n",
    "\n",
    "sns.histplot(df_drop[\"tokens\"], bins=30, kde=True, ax=axs[0])\n",
    "axs[0].set_xlabel(\"Tokenanzahl\")\n",
    "axs[0].set_title(\"Verteilung der Tokenanzahl\")\n",
    "\n",
    "sns.histplot(df_drop[\"typen\"], bins=30, kde=True, ax=axs[1])\n",
    "axs[1].set_xlabel(\"Typenanzahl\")\n",
    "axs[1].set_title(\"Verteilung der Typenanzahl\")\n",
    "\n",
    "plt.tight_layout()\n",
    "plt.show()\n"
   ]
  },
  {
   "cell_type": "markdown",
   "metadata": {},
   "source": [
    "Hier sind insbesondere die Wörter innerhalb des \"Ellbogens\" der Kurve interessant. Für die späteren gefilterten Relgions-präsenten Datensätze interessant noch einmal durchzuführen!. TODO"
   ]
  },
  {
   "cell_type": "code",
   "execution_count": null,
   "metadata": {},
   "outputs": [],
   "source": []
  },
  {
   "cell_type": "code",
   "execution_count": 20,
   "metadata": {},
   "outputs": [],
   "source": [
    "def compute_sttr(text, window_size=1000):\n",
    "    words = nltk.word_tokenize(text) \n",
    "    if len(words) < window_size:\n",
    "        return len(set(words)) / len(words) if words else 0\n",
    "\n",
    "    num_windows = len(words) // window_size\n",
    "    ttr_values = np.array([\n",
    "        len(set(words[i * window_size : (i + 1) * window_size])) / window_size\n",
    "        for i in range(num_windows)\n",
    "    ])\n",
    "\n",
    "    return np.mean(ttr_values) if ttr_values.size > 0 else 0"
   ]
  },
  {
   "cell_type": "code",
   "execution_count": 21,
   "metadata": {},
   "outputs": [],
   "source": [
    "# Get TTR \n",
    "df_drop[\"TTR\"] = df_drop[\"typen\"] / df_drop[\"tokens\"]"
   ]
  },
  {
   "cell_type": "code",
   "execution_count": 22,
   "metadata": {},
   "outputs": [
    {
     "data": {
      "text/plain": [
       "Text(0, 0.5, 'TTR')"
      ]
     },
     "execution_count": 22,
     "metadata": {},
     "output_type": "execute_result"
    },
    {
     "data": {
      "image/png": "[encoded data removed]",
      "text/plain": [
       "<Figure size 1000x400 with 1 Axes>"
      ]
     },
     "metadata": {},
     "output_type": "display_data"
    }
   ],
   "source": [
    "# TTR plotted\n",
    "plt.figure(figsize=(10, 4))\n",
    "\n",
    "sns.scatterplot(data=df_drop, x=\"tokens\", y=\"TTR\")\n",
    "plt.xlabel(\"Anzahl an Tokens\")\n",
    "plt.ylabel(\"TTR\")"
   ]
  },
  {
   "cell_type": "code",
   "execution_count": 23,
   "metadata": {},
   "outputs": [],
   "source": [
    "# Get STTR\n",
    "df_drop[\"STTR\"] = df_drop[\"text\"].apply(compute_sttr)"
   ]
  },
  {
   "cell_type": "code",
   "execution_count": 24,
   "metadata": {},
   "outputs": [
    {
     "data": {
      "image/png": "[encoded data removed]",
      "text/plain": [
       "<Figure size 1200x500 with 2 Axes>"
      ]
     },
     "metadata": {},
     "output_type": "display_data"
    }
   ],
   "source": [
    "# Histogram for TTR and STTR\n",
    "fig, axs = plt.subplots(1, 2, figsize=(12, 5))\n",
    "\n",
    "sns.histplot(df_drop[\"TTR\"], bins=30, kde=True, ax=axs[0])\n",
    "axs[0].set_xlabel(\"Type-Token Ratio (TTR)\")\n",
    "axs[0].set_title(\"Verteilung der TTR\")\n",
    "\n",
    "sns.histplot(df_drop[\"STTR\"], bins=30, kde=True, ax=axs[1])\n",
    "axs[1].set_xlabel(\"Standardized TTR (STTR)\")\n",
    "axs[1].set_title(\"Verteilung der STTR\")\n",
    "\n",
    "plt.tight_layout()\n",
    "plt.show()"
   ]
  },
  {
   "cell_type": "code",
   "execution_count": null,
   "metadata": {},
   "outputs": [],
   "source": []
  },
  {
   "cell_type": "markdown",
   "metadata": {},
   "source": [
    "### 1.2 Extract DF\n",
    "Als nächstes wird der Datensatz in einen separaten Datensatz aufgeteilt, der in einem weiteren Notebook behandelt wird. Dabei werden vorerst noch die Texte besäubert und fehlende Informationen ergänzt."
   ]
  },
  {
   "cell_type": "code",
   "execution_count": 25,
   "metadata": {},
   "outputs": [
    {
     "data": {
      "text/html": [
       "<div>\n",
       "<style scoped>\n",
       "    .dataframe tbody tr th:only-of-type {\n",
       "        vertical-align: middle;\n",
       "    }\n",
       "\n",
       "    .dataframe tbody tr th {\n",
       "        vertical-align: top;\n",
       "    }\n",
       "\n",
       "    .dataframe thead th {\n",
       "        text-align: right;\n",
       "    }\n",
       "</style>\n",
       "<table border=\"1\" class=\"dataframe\">\n",
       "  <thead>\n",
       "    <tr style=\"text-align: right;\">\n",
       "      <th></th>\n",
       "      <th>text</th>\n",
       "      <th>url_html</th>\n",
       "    </tr>\n",
       "  </thead>\n",
       "  <tbody>\n",
       "    <tr>\n",
       "      <th>0</th>\n",
       "      <td>BUNDESVERFASSUNGSGERICHT\\n\\n- 2 BvQ 1/51 -\\n\\n...</td>\n",
       "      <td>https://www.bundesverfassungsgericht.de/Shared...</td>\n",
       "    </tr>\n",
       "    <tr>\n",
       "      <th>1</th>\n",
       "      <td>Leitsätze\\n\\n   zum ...</td>\n",
       "      <td>https://www.bundesverfassungsgericht.de/Shared...</td>\n",
       "    </tr>\n",
       "    <tr>\n",
       "      <th>2</th>\n",
       "      <td>Leitsätze\\n\\n\\n   zu...</td>\n",
       "      <td>https://www.bundesverfassungsgericht.de/Shared...</td>\n",
       "    </tr>\n",
       "    <tr>\n",
       "      <th>3</th>\n",
       "      <td>Leitsätze\\n\\n\\...</td>\n",
       "      <td>https://www.bundesverfassungsgericht.de/Shared...</td>\n",
       "    </tr>\n",
       "    <tr>\n",
       "      <th>4</th>\n",
       "      <td>BVerfGE 7,198 ff.\\n...</td>\n",
       "      <td>https://www.bundesverfassungsgericht.de/Shared...</td>\n",
       "    </tr>\n",
       "  </tbody>\n",
       "</table>\n",
       "</div>"
      ],
      "text/plain": [
       "                                                text  \\\n",
       "0  BUNDESVERFASSUNGSGERICHT\\n\\n- 2 BvQ 1/51 -\\n\\n...   \n",
       "1                            Leitsätze\\n\\n   zum ...   \n",
       "2                            Leitsätze\\n\\n\\n   zu...   \n",
       "3                                  Leitsätze\\n\\n\\...   \n",
       "4                             BVerfGE 7,198 ff.\\n...   \n",
       "\n",
       "                                            url_html  \n",
       "0  https://www.bundesverfassungsgericht.de/Shared...  \n",
       "1  https://www.bundesverfassungsgericht.de/Shared...  \n",
       "2  https://www.bundesverfassungsgericht.de/Shared...  \n",
       "3  https://www.bundesverfassungsgericht.de/Shared...  \n",
       "4  https://www.bundesverfassungsgericht.de/Shared...  "
      ]
     },
     "execution_count": 25,
     "metadata": {},
     "output_type": "execute_result"
    }
   ],
   "source": [
    "# Text data needed to be cleaned, html in order to check/scrape manually if needed\n",
    "df_nlp = df_drop[[\"text\", \"url_html\"]]\n",
    "# Reset indices to avoid NaN values when joining back\n",
    "df_nlp.reset_index(drop=True, inplace=True)\n",
    "df_nlp.head()"
   ]
  },
  {
   "cell_type": "code",
   "execution_count": 26,
   "metadata": {},
   "outputs": [
    {
     "name": "stderr",
     "output_type": "stream",
     "text": [
      "C:\\Users\\25mad\\AppData\\Local\\Temp\\ipykernel_31452\\1178134097.py:2: SettingWithCopyWarning: \n",
      "A value is trying to be set on a copy of a slice from a DataFrame.\n",
      "Try using .loc[row_indexer,col_indexer] = value instead\n",
      "\n",
      "See the caveats in the documentation: https://pandas.pydata.org/pandas-docs/stable/user_guide/indexing.html#returning-a-view-versus-a-copy\n",
      "  df_nlp.loc[:, \"text_clean\"] = df_nlp[\"text\"].apply(lambda x: re.sub(r'\\n+', ' ', x))\n"
     ]
    }
   ],
   "source": [
    "# First remove \\n new lines and whitespace\n",
    "df_nlp.loc[:, \"text_clean\"] = df_nlp[\"text\"].apply(lambda x: re.sub(r'\\n+', ' ', x))\n",
    "df_nlp.loc[:, \"text_clean\"] = df_nlp[\"text_clean\"].apply(lambda x: re.sub(r'\\s+', ' ', x))"
   ]
  },
  {
   "cell_type": "code",
   "execution_count": 27,
   "metadata": {},
   "outputs": [
    {
     "data": {
      "text/plain": [
       "8449    BUNDESVERFASSUNGSGERICHT - 1 BvR 618/22 - In dem Verfahren über die Verfassungsbeschwerde des Herrn (...), gegen a) die Ladung zum Termin zur mündlichen Anhörung am 21. September 2022 durch das Amtsgericht Pinneberg vom 27. Juli 2022 - 42 XVII 19503 -, b) den Beschluss des Amtsgerichts Pinneberg vom 18. Mai 2022 - 42 XVII 19503 -, c) den Beschluss des Amtsgerichts Pinneberg vom 28. April 2022 - 42 XVII 19503 -, d) den Beschluss des Landgerichts Itzehoe vom 8. März 2022 - 4 T 47/22 -, e) den ...\n",
       "8450    BUNDESVERFASSUNGSGERICHT - 1 BvQ 45/22 - In dem Verfahren über den Antrag, im Wege der einstweiligen Anordnung sinngemäß: die aufschiebende Wirkung der Klage gegen die mit dem Bescheid des Landratsamts Garmisch-Partenkirchen vom 25. Juni 2022 - Az. 51-1341/ G7-Sternmarsch - verfügte Auflage Nummer A. 1. c. mit der Maßgabe wiederherzustellen, dass der Versammlungsort 200 Meter Richtung Südwesten und Schloss Elmau auf den von der Mautstraße abzweigenden Weg (Koordinaten: 47.464404, 11.189678) ...\n",
       "8451    BUNDESVERFASSUNGSGERICHT - 1 BvR 437/21 - In dem Verfahren über die Verfassungsbeschwerde 1. des Minderjährigen (…), vertreten durch (…), 2. der Frau (…), 3. des Herrn (…), 4. der Minderjährigen (…), vertreten durch (…), 5. des Minderjährigen (…), vertreten durch (…), 6. der Frau (…), 7. des Herrn (…), - Bevollmächtigte: (…) - gegen § 20 Absatz 8 Satz 1 Nummer 1, Satz 2 und 3, § 20 Absatz 9 Satz 1 und 6, § 20 Absatz 10 Satz 1 und § 20 Absatz 13 Satz 1 des Infektionsschutzgesetzes (IfSG) in d...\n",
       "8452    BUNDESVERFASSUNGSGERICHT - 1 BvR 1349/20 - IM NAMEN DES VOLKES In dem Verfahren über die Verfassungsbeschwerde der (…)-AG, vertreten durch den Vorstand, - Bevollmächtigte: 1. (…), 2. (…) - gegen a) den Beschluss des Oberlandesgerichts Celle vom 29. Mai 2020 - 9 W 69/19 -, b) den Beschluss des Oberlandesgerichts Celle vom 28. April 2020 - 9 W 69/19 - hat die 3. Kammer des Ersten Senats des Bundesverfassungsgerichts durch die Richterin Britz und die Richter Christ, Radtke am 21. September 2022...\n",
       "8453    BUNDESVERFASSUNGSGERICHT - 1 BvR 2754/17 - IM NAMEN DES VOLKES In dem Verfahren über die Verfassungsbeschwerde der (…)-AG, vertreten durch den Vorstand, - Bevollmächtigte: 1. (…), 2. (…) - gegen a) den Beschluss des Oberlandesgerichts Celle vom 23. November 2017 - 9 W 86/17 -, b) den Beschluss des Oberlandesgerichts Celle vom 8. November 2017 - 9 W 86/17 - hat die 3. Kammer des Ersten Senats des Bundesverfassungsgerichts durch die Richterin Britz und die Richter Christ, Radtke am 21. Septemb...\n",
       "                                                                                                                                                                                                                                                               ...                                                                                                                                                                                                                                                         \n",
       "8944    BUNDESVERFASSUNGSGERICHT - 2 BvR 1177/20 - Europawahl 2019 und 2024 (Mindestwahlalter) IM NAMEN DES V VOLKES OLKES In dem VVer erfahr fahren en über die V Ver erfassungsbesch fassungsbeschwer werde de 1. der Minderjährigen (…), 2. der Minderjährigen (…), 3. des Minderjährigen (…), - Bevollmächtigte: (…) (zu 2., 3.) - gegen a) § 6 Absatz 1 Satz 1 Nummer 1 des Gesetzes über die Wahl der Abgeordneten des Europäischen Parlaments aus der Bundesrepublik Deutschland in der Fassung der Bekanntmachun...\n",
       "8945    BUNDESVERFASSUNGSGERICHT - 2 BvQ 40/24 - In dem VVer erfahr fahren en über den Antr Antrag, ag, im W Wege ege der einstweiligen Anor Anordnung dnung den Termin des Amtsgerichts Aschaffenburg, Zweigstelle Alzenau in Unterfranken, am 13. Juni 2024 im Verfahren 331 Cs 103 Js 1438/24 aufzuheben und den Beschluss des Landgerichts Aschaffenburg vom 18. April 2024 - Qs 23/24 - aufzuheben Antragsteller:(…), (…), hat die 3. Kammer des Zweiten Senats des Bundesverfassungsgerichts durch die Richterinne...\n",
       "8946    BUNDESVERFASSUNGSGERICHT - 2 BvQ 49/24 - IM NAMEN DES V VOLKES OLKES In dem VVer erfahr fahren en über den Antr Antrag, ag, im W Wege ege der einstweiligen Anor Anordnung dnung die Generalstaatsanwaltschaft Berlin (151 AuslA 195/23) und das Landeskriminalamt Sachsen anzuweisen, die Auslieferung des Antragstellers derzeit nicht faktisch umzusetzen, also insbesondere den Antragsteller nicht außerhalb des Geltungsbereichs des Grundgesetzes zu verbringen und nicht an ungarische Behörden zu überg...\n",
       "8947    BUNDESVERFASSUNGSGERICHT - 1 BvR 2231/23 - In dem VVer erfahr fahren en über die V Ver erfassungsbesch fassungsbeschwer werde de der (…)-e.V., vertreten durch den Vorsitzenden (…), - Bevollmächtigte: (…) - gegen das Urteil des Bundesarbeitsgerichts vom 25. April 2023 - 9 AZR 254/22 - hat die 3. Kammer des Ersten Senats des Bundesverfassungsgerichts durch die Richter Christ, Wolff und die Richterin Meßling gemäß § 93b in Verbindung mit § 93a BVerfGG in der Fassung der Bekanntmachung vom 11. A...\n",
       "8948    BUNDESVERFASSUNGSGERICHT - 1 BvR 2244/23 - In dem VVer erfahr fahren en über die V Ver erfassungsbesch fassungsbeschwer werde de des (…)-e.V., vertreten durch den Vorsitzenden (…), - Bevollmächtigte: (…) - gegen das Urteil des Bundesarbeitsgerichts vom 25. April 2023 - 9 AZR 253/22 - hat die 3. Kammer des Ersten Senats des Bundesverfassungsgerichts durch die Richter Christ, Wolff und die Richterin Meßling gemäß § 93b in Verbindung mit § 93a BVerfGG in der Fassung der Bekanntmachung vom 11. A...\n",
       "Name: text_clean, Length: 500, dtype: object"
      ]
     },
     "execution_count": 27,
     "metadata": {},
     "output_type": "execute_result"
    }
   ],
   "source": [
    "# Look at last entries\n",
    "pd.set_option('display.max_colwidth', 500)\n",
    "df_nlp[\"text_clean\"].iloc[-500:]"
   ]
  },
  {
   "cell_type": "markdown",
   "metadata": {},
   "source": [
    "Es fällt auf, dass insbesondere bei den letzten Texten, es offensichtlich Probleme gegeben haben muss beim Einlesen der PDFs. Aus diesen Gründen wird nachfolgend geschaut, welche Urteile davon betroffen sind, wie man diese identifizieren kann und nachträglich die Urteile korrekt einlesen kann."
   ]
  },
  {
   "cell_type": "code",
   "execution_count": 28,
   "metadata": {},
   "outputs": [],
   "source": [
    "# Identify commonly seen \"VVer\", \"V Ver\" or \"VOLKES OLKES\" in wrongly processed PDFs\n",
    "def get_doubleV(x):\n",
    "    if x is not None:\n",
    "        a = re.search(r'(\\bVVer\\b|V\\s*Ver\\b|V\\s*VOLKES\\s*OLKES)', x)\n",
    "        if a:\n",
    "            return a.group()\n",
    "    return -1 "
   ]
  },
  {
   "cell_type": "code",
   "execution_count": 29,
   "metadata": {},
   "outputs": [
    {
     "name": "stderr",
     "output_type": "stream",
     "text": [
      "C:\\Users\\25mad\\AppData\\Local\\Temp\\ipykernel_31452\\1001806063.py:2: SettingWithCopyWarning: \n",
      "A value is trying to be set on a copy of a slice from a DataFrame.\n",
      "Try using .loc[row_indexer,col_indexer] = value instead\n",
      "\n",
      "See the caveats in the documentation: https://pandas.pydata.org/pandas-docs/stable/user_guide/indexing.html#returning-a-view-versus-a-copy\n",
      "  df_nlp.loc[:, \"false_entries\"] = df_nlp[\"text_clean\"].apply(get_doubleV)\n"
     ]
    }
   ],
   "source": [
    "# Mark wrongly processed texts\n",
    "df_nlp.loc[:, \"false_entries\"] = df_nlp[\"text_clean\"].apply(get_doubleV)"
   ]
  },
  {
   "cell_type": "code",
   "execution_count": 30,
   "metadata": {},
   "outputs": [
    {
     "data": {
      "text/plain": [
       "(390, 4)"
      ]
     },
     "execution_count": 30,
     "metadata": {},
     "output_type": "execute_result"
    }
   ],
   "source": [
    "df_nlp[df_nlp[\"false_entries\"] != -1].shape"
   ]
  },
  {
   "cell_type": "markdown",
   "metadata": {},
   "source": [
    "Es existieren um die 400 Einträge, in welchen entweder ein doppeltes VV, ein \"V Ver\" oder ein \"VOLKES OLKES\" existiert. All diese Zeichenfolgen sind beim Durchgehen des Datensatzes auffällig gewesen, besonders da sie am Anfang eines fehlerhaften Textes vorzufinden waren. Diese Einträge werden in einen separaten Datensatz behandelt."
   ]
  },
  {
   "cell_type": "code",
   "execution_count": 31,
   "metadata": {},
   "outputs": [],
   "source": [
    "# Separate dfs from each other\n",
    "df_nlp_clean = df_nlp.loc[df_nlp[\"false_entries\"] == -1, :]\n",
    "df_false = df_nlp[df_nlp[\"false_entries\"] != -1]"
   ]
  },
  {
   "cell_type": "markdown",
   "metadata": {},
   "source": [
    "Der getrennte Datensatz scheint soweit keinen Fehler weiter zu enthalten. Für die fehlerhaften Einträge werden nachfolgend nocheinmal die HTML URLs aufgerufen und der Text neu-gescrapt."
   ]
  },
  {
   "cell_type": "code",
   "execution_count": 32,
   "metadata": {},
   "outputs": [],
   "source": [
    "import requests\n",
    "from bs4 import BeautifulSoup\n",
    "import os\n",
    "import json\n",
    "\n",
    "def fetch_html_text(url):\n",
    "    response = requests.get(url)\n",
    "    soup = BeautifulSoup(response.text, \"html.parser\")\n",
    "\n",
    "    content_div = soup.find(\"div\", class_=\"content\")\n",
    "    if content_div:\n",
    "        text = content_div.get_text(separator=\"\\n\", strip=True)\n",
    "    else:\n",
    "        print(\"No content found\")\n",
    "    \n",
    "    discard = [\"PDF-Download\", \"Top-Links\", \"Pressemitteilung\"]\n",
    "    for phrase in discard:\n",
    "        text = text.replace(phrase, '')\n",
    "    \n",
    "    return text\n",
    "\n",
    "\n",
    "# Either load the data if file is available or run the script once\n",
    "def load_or_fetch_data(df):\n",
    "    file_path = \"newly_fetched_texts\"\n",
    "    if os.path.exists(file_path):\n",
    "        with open(file_path, \"r\", encoding=\"utf-8\") as f:\n",
    "            cached_data = json.load(f)\n",
    "    else:\n",
    "        cached_data = {}\n",
    "    \n",
    "    for url in df[\"url_html\"]:\n",
    "        if url not in cached_data:\n",
    "            cached_data[url] = fetch_html_text(url)\n",
    "    \n",
    "    with open(file_path, \"w\", encoding=\"utf-8\") as f:\n",
    "        json.dump(cached_data, f, ensure_ascii=False, indent=4)\n",
    "    \n",
    "    df[\"text_new\"] = df[\"url_html\"].map(lambda url: cached_data.get(url, \"\"))\n",
    "    \n",
    "    return df\n"
   ]
  },
  {
   "cell_type": "code",
   "execution_count": 33,
   "metadata": {},
   "outputs": [
    {
     "name": "stderr",
     "output_type": "stream",
     "text": [
      "C:\\Users\\25mad\\AppData\\Local\\Temp\\ipykernel_31452\\3832453859.py:39: SettingWithCopyWarning: \n",
      "A value is trying to be set on a copy of a slice from a DataFrame.\n",
      "Try using .loc[row_indexer,col_indexer] = value instead\n",
      "\n",
      "See the caveats in the documentation: https://pandas.pydata.org/pandas-docs/stable/user_guide/indexing.html#returning-a-view-versus-a-copy\n",
      "  df[\"text_new\"] = df[\"url_html\"].map(lambda url: cached_data.get(url, \"\"))\n"
     ]
    }
   ],
   "source": [
    "df_false = load_or_fetch_data(df_false)"
   ]
  },
  {
   "cell_type": "code",
   "execution_count": 34,
   "metadata": {},
   "outputs": [
    {
     "data": {
      "text/html": [
       "<div>\n",
       "<style scoped>\n",
       "    .dataframe tbody tr th:only-of-type {\n",
       "        vertical-align: middle;\n",
       "    }\n",
       "\n",
       "    .dataframe tbody tr th {\n",
       "        vertical-align: top;\n",
       "    }\n",
       "\n",
       "    .dataframe thead th {\n",
       "        text-align: right;\n",
       "    }\n",
       "</style>\n",
       "<table border=\"1\" class=\"dataframe\">\n",
       "  <thead>\n",
       "    <tr style=\"text-align: right;\">\n",
       "      <th></th>\n",
       "      <th>text</th>\n",
       "      <th>url_html</th>\n",
       "      <th>text_clean</th>\n",
       "      <th>false_entries</th>\n",
       "      <th>text_new</th>\n",
       "    </tr>\n",
       "  </thead>\n",
       "  <tbody>\n",
       "    <tr>\n",
       "      <th>1576</th>\n",
       "      <td>BUNDES\\nBUNDESVERF\\n       VERFASSUNGSGERICHT\\n           ASSUNGSGERICHT\\n\\n- 2 BvR 1252/99 -\\n\\n- 2 BvR 1253/99 -\\n\\n- 2 BvR 1254/99 -\\n\\n- 2 BvR 1255/99 -\\n\\n- 2 BvR 1256/99 -\\n\\n- 2 BvR 1257/99 -\\n\\n                                   In den VVer\\n                                            erfahr\\n                                               fahren\\n                                                   en\\n                                          über\\n                             die V\\n...</td>\n",
       "      <td>https://www.bundesverfassungsgericht.de/SharedDocs/Entscheidungen/DE/2001/07/rk20010718_2bvr125299.html</td>\n",
       "      <td>BUNDES BUNDESVERF VERFASSUNGSGERICHT ASSUNGSGERICHT - 2 BvR 1252/99 - - 2 BvR 1253/99 - - 2 BvR 1254/99 - - 2 BvR 1255/99 - - 2 BvR 1256/99 - - 2 BvR 1257/99 - In den VVer erfahr fahren en über die V Ver erfassungsbesch fassungsbeschwer werden den 1. des Herrn Axel H e i m e n d a h l , Randstraße 118, 47804 Krefeld, - 2 BvR 1252/99 -, 2. des Herrn Elmar E r l e m a n n , Friedrich-Ebert-Straße 333, 47800 Krefeld, - 2 BvR 1253/99 -, 3. des Herrn Josef S t a n g e n b e r g , Vulkanstraße 49,...</td>\n",
       "      <td>VVer</td>\n",
       "      <td>Beschluss vom 18. Juli 2001\\n\\n - Nr. 79/2001 vom 26. Juli 2001\\nBUNDESVERFASSUNGSGERICHT\\n- 2 BvR 1252/99 -\\n- 2 BvR 1253/99 -\\n- 2 BvR 1254/99 -\\n- 2 BvR 1255/99 -\\n- 2 BvR 1256/99 -\\n- 2 BvR 1257/99 -\\nIn den Verfahren\\nüber\\ndie Verfassungsbeschwerden\\n1. des Herrn H.\\n- 2 BvR 1252/99 -,\\n2. des Herrn E.\\n- 2 BvR 1253/99 -,\\n3. des Herrn Josef S.\\n- 2 BvR 1254/99 -,\\n4. des Herrn Prof. Dr.-Ing.\\n- 2 BvR 1255/99 -,\\n5. des Herrn Franz-Josef   G.\\n- 2 BvR 1256/99 -,\\n6. des Herrn Willi W.\\...</td>\n",
       "    </tr>\n",
       "  </tbody>\n",
       "</table>\n",
       "</div>"
      ],
      "text/plain": [
       "                                                                                                                                                                                                                                                                                                                                                                                                                                                                                                                     text  \\\n",
       "1576  BUNDES\\nBUNDESVERF\\n       VERFASSUNGSGERICHT\\n           ASSUNGSGERICHT\\n\\n- 2 BvR 1252/99 -\\n\\n- 2 BvR 1253/99 -\\n\\n- 2 BvR 1254/99 -\\n\\n- 2 BvR 1255/99 -\\n\\n- 2 BvR 1256/99 -\\n\\n- 2 BvR 1257/99 -\\n\\n                                   In den VVer\\n                                            erfahr\\n                                               fahren\\n                                                   en\\n                                          über\\n                             die V\\n...   \n",
       "\n",
       "                                                                                                     url_html  \\\n",
       "1576  https://www.bundesverfassungsgericht.de/SharedDocs/Entscheidungen/DE/2001/07/rk20010718_2bvr125299.html   \n",
       "\n",
       "                                                                                                                                                                                                                                                                                                                                                                                                                                                                                                               text_clean  \\\n",
       "1576  BUNDES BUNDESVERF VERFASSUNGSGERICHT ASSUNGSGERICHT - 2 BvR 1252/99 - - 2 BvR 1253/99 - - 2 BvR 1254/99 - - 2 BvR 1255/99 - - 2 BvR 1256/99 - - 2 BvR 1257/99 - In den VVer erfahr fahren en über die V Ver erfassungsbesch fassungsbeschwer werden den 1. des Herrn Axel H e i m e n d a h l , Randstraße 118, 47804 Krefeld, - 2 BvR 1252/99 -, 2. des Herrn Elmar E r l e m a n n , Friedrich-Ebert-Straße 333, 47800 Krefeld, - 2 BvR 1253/99 -, 3. des Herrn Josef S t a n g e n b e r g , Vulkanstraße 49,...   \n",
       "\n",
       "     false_entries  \\\n",
       "1576          VVer   \n",
       "\n",
       "                                                                                                                                                                                                                                                                                                                                                                                                                                                                                                                 text_new  \n",
       "1576  Beschluss vom 18. Juli 2001\\n\\n - Nr. 79/2001 vom 26. Juli 2001\\nBUNDESVERFASSUNGSGERICHT\\n- 2 BvR 1252/99 -\\n- 2 BvR 1253/99 -\\n- 2 BvR 1254/99 -\\n- 2 BvR 1255/99 -\\n- 2 BvR 1256/99 -\\n- 2 BvR 1257/99 -\\nIn den Verfahren\\nüber\\ndie Verfassungsbeschwerden\\n1. des Herrn H.\\n- 2 BvR 1252/99 -,\\n2. des Herrn E.\\n- 2 BvR 1253/99 -,\\n3. des Herrn Josef S.\\n- 2 BvR 1254/99 -,\\n4. des Herrn Prof. Dr.-Ing.\\n- 2 BvR 1255/99 -,\\n5. des Herrn Franz-Josef   G.\\n- 2 BvR 1256/99 -,\\n6. des Herrn Willi W.\\...  "
      ]
     },
     "execution_count": 34,
     "metadata": {},
     "output_type": "execute_result"
    }
   ],
   "source": [
    "df_false.head(1)"
   ]
  },
  {
   "cell_type": "code",
   "execution_count": 35,
   "metadata": {},
   "outputs": [],
   "source": [
    "# Remove \\n new lines and \"Beschluss vom...\": anything after Bundesverfassungsgericht remains\n",
    "no_matches = []\n",
    "def clean_newtext(row):\n",
    "    match = re.search(r\"BUNDESVERFASSUNGSGERICHT\", row, re.IGNORECASE)\n",
    "    if match:\n",
    "        row = row[match.start():]  \n",
    "    else:\n",
    "        no_matches.append(row) \n",
    "    return row"
   ]
  },
  {
   "cell_type": "code",
   "execution_count": 36,
   "metadata": {},
   "outputs": [
    {
     "name": "stdout",
     "output_type": "stream",
     "text": [
      "No matches in: 0 cases\n"
     ]
    }
   ],
   "source": [
    "print(\"No matches in:\", len(no_matches), \"cases\")"
   ]
  },
  {
   "cell_type": "markdown",
   "metadata": {},
   "source": [
    "Es gibt 6 Einträge, bei welchem die HTTP Request fehlschlägt und bei manuellem Aufrufen der hinterlegten URL, derselbe 404 Fehler erscheint. Bei diesen Einträgen lässt es sich nicht vermeiden mit dem fehlerhaften, orignell eingelesenem Text weiterzuarbeiten. "
   ]
  },
  {
   "cell_type": "code",
   "execution_count": 37,
   "metadata": {},
   "outputs": [
    {
     "name": "stderr",
     "output_type": "stream",
     "text": [
      "C:\\Users\\25mad\\AppData\\Local\\Temp\\ipykernel_31452\\3061065758.py:3: SettingWithCopyWarning: \n",
      "A value is trying to be set on a copy of a slice from a DataFrame\n",
      "\n",
      "See the caveats in the documentation: https://pandas.pydata.org/pandas-docs/stable/user_guide/indexing.html#returning-a-view-versus-a-copy\n",
      "  df_false.loc[:, \"text_clean\"][df_false[\"text_clean\"].str.contains(\"HTTP Status 404\", na=False)] = df_false[\"text\"]\n"
     ]
    }
   ],
   "source": [
    "df_false.loc[:, \"text_clean\"] = df_false[\"text_new\"].apply(clean_newtext)\n",
    "# if there was no match (HTTP-Request failed), add the text from the origial\n",
    "df_false.loc[:, \"text_clean\"][df_false[\"text_clean\"].str.contains(\"HTTP Status 404\", na=False)] = df_false[\"text\"]"
   ]
  },
  {
   "cell_type": "code",
   "execution_count": 38,
   "metadata": {},
   "outputs": [
    {
     "data": {
      "text/plain": [
       "(390,)"
      ]
     },
     "execution_count": 38,
     "metadata": {},
     "output_type": "execute_result"
    }
   ],
   "source": [
    "df_false[\"text_clean\"].str.contains(\"HTTP Status 404\", na=False).shape"
   ]
  },
  {
   "cell_type": "code",
   "execution_count": 39,
   "metadata": {},
   "outputs": [],
   "source": [
    "# Remove new lines and whitespaces \n",
    "df_false.loc[:, \"text_clean\"] = df_false[\"text_clean\"].apply(lambda x: re.sub(r'\\n+', ' ', x))\n",
    "df_false.loc[:, \"text_clean\"] = df_false[\"text_clean\"].apply(lambda x: re.sub(r'\\s+', ' ', x))"
   ]
  },
  {
   "cell_type": "code",
   "execution_count": 40,
   "metadata": {},
   "outputs": [],
   "source": [
    "df_nlp_final = pd.concat([df_false, df_nlp_clean], ignore_index=True)\n",
    "df_nlp_final = df_nlp_final.drop([\"text_new\", \"false_entries\"], axis=1)"
   ]
  },
  {
   "cell_type": "code",
   "execution_count": 41,
   "metadata": {},
   "outputs": [
    {
     "data": {
      "text/html": [
       "<div>\n",
       "<style scoped>\n",
       "    .dataframe tbody tr th:only-of-type {\n",
       "        vertical-align: middle;\n",
       "    }\n",
       "\n",
       "    .dataframe tbody tr th {\n",
       "        vertical-align: top;\n",
       "    }\n",
       "\n",
       "    .dataframe thead th {\n",
       "        text-align: right;\n",
       "    }\n",
       "</style>\n",
       "<table border=\"1\" class=\"dataframe\">\n",
       "  <thead>\n",
       "    <tr style=\"text-align: right;\">\n",
       "      <th></th>\n",
       "      <th>text</th>\n",
       "      <th>url_html</th>\n",
       "      <th>text_clean</th>\n",
       "    </tr>\n",
       "  </thead>\n",
       "  <tbody>\n",
       "    <tr>\n",
       "      <th>0</th>\n",
       "      <td>BUNDES\\nBUNDESVERF\\n       VERFASSUNGSGERICHT\\n           ASSUNGSGERICHT\\n\\n- 2 BvR 1252/99 -\\n\\n- 2 BvR 1253/99 -\\n\\n- 2 BvR 1254/99 -\\n\\n- 2 BvR 1255/99 -\\n\\n- 2 BvR 1256/99 -\\n\\n- 2 BvR 1257/99 -\\n\\n                                   In den VVer\\n                                            erfahr\\n                                               fahren\\n                                                   en\\n                                          über\\n                             die V\\n...</td>\n",
       "      <td>https://www.bundesverfassungsgericht.de/SharedDocs/Entscheidungen/DE/2001/07/rk20010718_2bvr125299.html</td>\n",
       "      <td>BUNDESVERFASSUNGSGERICHT - 2 BvR 1252/99 - - 2 BvR 1253/99 - - 2 BvR 1254/99 - - 2 BvR 1255/99 - - 2 BvR 1256/99 - - 2 BvR 1257/99 - In den Verfahren über die Verfassungsbeschwerden 1. des Herrn H. - 2 BvR 1252/99 -, 2. des Herrn E. - 2 BvR 1253/99 -, 3. des Herrn Josef S. - 2 BvR 1254/99 -, 4. des Herrn Prof. Dr.-Ing. - 2 BvR 1255/99 -, 5. des Herrn Franz-Josef G. - 2 BvR 1256/99 -, 6. des Herrn Willi W. - 2 BvR 1257/99 - - Bevollmächtigte: Rechtsanwälte Heinrich Deubner und Koll., Mozartst...</td>\n",
       "    </tr>\n",
       "    <tr>\n",
       "      <th>1</th>\n",
       "      <td>BUNDESVERFASSUNGSGERICHT\\n\\n- 1 BvR 189/09 -\\n\\n                                  In dem VVer\\n                                           erfahr\\n                                              fahren\\n                                                  en\\n                                         über\\n                            die V\\n                                Ver\\n                                 erfassungsbesch\\n                                    fassungsbeschwer\\n                   ...</td>\n",
       "      <td>https://www.bundesverfassungsgericht.de/SharedDocs/Entscheidungen/DE/2009/02/rk20090224_1bvr018909.html</td>\n",
       "      <td>BUNDESVERFASSUNGSGERICHT - 1 BvR 189/09 - In dem Verfahren über die Verfassungsbeschwerde 1. der Frau W…, 2. des Herrn H…, 3. des H…, - Bevollmächtigte: Rechtsanwälte Wurster Wirsing Schotten, Kaiser-Joseph-Straße 247, 79098 Freiburg - gegen a) den Beschluss des Hessischen Verwaltungsgerichtshofs vom 22. Dezember 2008 - 11 C 338/08.T -, - hinsichtlich des Beschwerdeführers zu 2) - b) den Beschluss des Hessischen Verwaltungsgerichtshofs vom 22. Dezember 2008 - 11 B 358/08.T -, - hinsichtlich ...</td>\n",
       "    </tr>\n",
       "  </tbody>\n",
       "</table>\n",
       "</div>"
      ],
      "text/plain": [
       "                                                                                                                                                                                                                                                                                                                                                                                                                                                                                                                  text  \\\n",
       "0  BUNDES\\nBUNDESVERF\\n       VERFASSUNGSGERICHT\\n           ASSUNGSGERICHT\\n\\n- 2 BvR 1252/99 -\\n\\n- 2 BvR 1253/99 -\\n\\n- 2 BvR 1254/99 -\\n\\n- 2 BvR 1255/99 -\\n\\n- 2 BvR 1256/99 -\\n\\n- 2 BvR 1257/99 -\\n\\n                                   In den VVer\\n                                            erfahr\\n                                               fahren\\n                                                   en\\n                                          über\\n                             die V\\n...   \n",
       "1  BUNDESVERFASSUNGSGERICHT\\n\\n- 1 BvR 189/09 -\\n\\n                                  In dem VVer\\n                                           erfahr\\n                                              fahren\\n                                                  en\\n                                         über\\n                            die V\\n                                Ver\\n                                 erfassungsbesch\\n                                    fassungsbeschwer\\n                   ...   \n",
       "\n",
       "                                                                                                  url_html  \\\n",
       "0  https://www.bundesverfassungsgericht.de/SharedDocs/Entscheidungen/DE/2001/07/rk20010718_2bvr125299.html   \n",
       "1  https://www.bundesverfassungsgericht.de/SharedDocs/Entscheidungen/DE/2009/02/rk20090224_1bvr018909.html   \n",
       "\n",
       "                                                                                                                                                                                                                                                                                                                                                                                                                                                                                                            text_clean  \n",
       "0  BUNDESVERFASSUNGSGERICHT - 2 BvR 1252/99 - - 2 BvR 1253/99 - - 2 BvR 1254/99 - - 2 BvR 1255/99 - - 2 BvR 1256/99 - - 2 BvR 1257/99 - In den Verfahren über die Verfassungsbeschwerden 1. des Herrn H. - 2 BvR 1252/99 -, 2. des Herrn E. - 2 BvR 1253/99 -, 3. des Herrn Josef S. - 2 BvR 1254/99 -, 4. des Herrn Prof. Dr.-Ing. - 2 BvR 1255/99 -, 5. des Herrn Franz-Josef G. - 2 BvR 1256/99 -, 6. des Herrn Willi W. - 2 BvR 1257/99 - - Bevollmächtigte: Rechtsanwälte Heinrich Deubner und Koll., Mozartst...  \n",
       "1  BUNDESVERFASSUNGSGERICHT - 1 BvR 189/09 - In dem Verfahren über die Verfassungsbeschwerde 1. der Frau W…, 2. des Herrn H…, 3. des H…, - Bevollmächtigte: Rechtsanwälte Wurster Wirsing Schotten, Kaiser-Joseph-Straße 247, 79098 Freiburg - gegen a) den Beschluss des Hessischen Verwaltungsgerichtshofs vom 22. Dezember 2008 - 11 C 338/08.T -, - hinsichtlich des Beschwerdeführers zu 2) - b) den Beschluss des Hessischen Verwaltungsgerichtshofs vom 22. Dezember 2008 - 11 B 358/08.T -, - hinsichtlich ...  "
      ]
     },
     "execution_count": 41,
     "metadata": {},
     "output_type": "execute_result"
    }
   ],
   "source": [
    "df_nlp_final.head(2)"
   ]
  },
  {
   "cell_type": "code",
   "execution_count": 42,
   "metadata": {},
   "outputs": [
    {
     "data": {
      "text/plain": [
       "text          0\n",
       "url_html      0\n",
       "text_clean    0\n",
       "dtype: int64"
      ]
     },
     "execution_count": 42,
     "metadata": {},
     "output_type": "execute_result"
    }
   ],
   "source": [
    "df_nlp_final.isna().sum()"
   ]
  },
  {
   "cell_type": "code",
   "execution_count": 43,
   "metadata": {},
   "outputs": [],
   "source": [
    "# Remove the first Sentences (Bundesverfassungsgericht ... im Namen des Volkes... im Verfahren über...)\n",
    "# Remove anything before the \"über \"\n",
    "df_nlp_final[\"text_clean\"] = df_nlp_final[\"text_clean\"].apply(lambda x: x.split(\"über \", 1)[-1])\n",
    "# Remove the ECLI information\n",
    "df_nlp_final[\"text_clean\"] = df_nlp_final[\"text_clean\"].apply(lambda x: x.split(\"European Case Law Identifier (ECLI): \")[0])\n",
    "# Remove Zitiervorschlag information\n",
    "df_nlp_final[\"text_clean\"] = df_nlp_final[\"text_clean\"].apply(lambda x: x.split(\"Zitiervorschlag \")[0])"
   ]
  },
  {
   "cell_type": "code",
   "execution_count": 44,
   "metadata": {},
   "outputs": [
    {
     "data": {
      "text/html": [
       "<div>\n",
       "<style scoped>\n",
       "    .dataframe tbody tr th:only-of-type {\n",
       "        vertical-align: middle;\n",
       "    }\n",
       "\n",
       "    .dataframe tbody tr th {\n",
       "        vertical-align: top;\n",
       "    }\n",
       "\n",
       "    .dataframe thead th {\n",
       "        text-align: right;\n",
       "    }\n",
       "</style>\n",
       "<table border=\"1\" class=\"dataframe\">\n",
       "  <thead>\n",
       "    <tr style=\"text-align: right;\">\n",
       "      <th></th>\n",
       "      <th>text</th>\n",
       "      <th>url_html</th>\n",
       "      <th>text_clean</th>\n",
       "    </tr>\n",
       "  </thead>\n",
       "  <tbody>\n",
       "    <tr>\n",
       "      <th>0</th>\n",
       "      <td>BUNDES\\nBUNDESVERF\\n       VERFASSUNGSGERICHT\\n           ASSUNGSGERICHT\\n\\n- 2 BvR 1252/99 -\\n\\n- 2 BvR 1253/99 -\\n\\n- 2 BvR 1254/99 -\\n\\n- 2 BvR 1255/99 -\\n\\n- 2 BvR 1256/99 -\\n\\n- 2 BvR 1257/99 -\\n\\n                                   In den VVer\\n                                            erfahr\\n                                               fahren\\n                                                   en\\n                                          über\\n                             die V\\n...</td>\n",
       "      <td>https://www.bundesverfassungsgericht.de/SharedDocs/Entscheidungen/DE/2001/07/rk20010718_2bvr125299.html</td>\n",
       "      <td>die Verfassungsbeschwerden 1. des Herrn H. - 2 BvR 1252/99 -, 2. des Herrn E. - 2 BvR 1253/99 -, 3. des Herrn Josef S. - 2 BvR 1254/99 -, 4. des Herrn Prof. Dr.-Ing. - 2 BvR 1255/99 -, 5. des Herrn Franz-Josef G. - 2 BvR 1256/99 -, 6. des Herrn Willi W. - 2 BvR 1257/99 - - Bevollmächtigte: Rechtsanwälte Heinrich Deubner und Koll., Mozartstraße 13, 76133 Karlsruhe - gegen Artikel 1 des Gesetzes zur Neueinteilung der Wahlkreise für die Wahl zum Deutschen Bundestag vom Juli 1998 (BGBl I S. 1698...</td>\n",
       "    </tr>\n",
       "    <tr>\n",
       "      <th>1</th>\n",
       "      <td>BUNDESVERFASSUNGSGERICHT\\n\\n- 1 BvR 189/09 -\\n\\n                                  In dem VVer\\n                                           erfahr\\n                                              fahren\\n                                                  en\\n                                         über\\n                            die V\\n                                Ver\\n                                 erfassungsbesch\\n                                    fassungsbeschwer\\n                   ...</td>\n",
       "      <td>https://www.bundesverfassungsgericht.de/SharedDocs/Entscheidungen/DE/2009/02/rk20090224_1bvr018909.html</td>\n",
       "      <td>die Verfassungsbeschwerde 1. der Frau W…, 2. des Herrn H…, 3. des H…, - Bevollmächtigte: Rechtsanwälte Wurster Wirsing Schotten, Kaiser-Joseph-Straße 247, 79098 Freiburg - gegen a) den Beschluss des Hessischen Verwaltungsgerichtshofs vom 22. Dezember 2008 - 11 C 338/08.T -, - hinsichtlich des Beschwerdeführers zu 2) - b) den Beschluss des Hessischen Verwaltungsgerichtshofs vom 22. Dezember 2008 - 11 B 358/08.T -, - hinsichtlich der Beschwerdeführerin zu 1) - c) den Beschluss des Hessischen V...</td>\n",
       "    </tr>\n",
       "  </tbody>\n",
       "</table>\n",
       "</div>"
      ],
      "text/plain": [
       "                                                                                                                                                                                                                                                                                                                                                                                                                                                                                                                  text  \\\n",
       "0  BUNDES\\nBUNDESVERF\\n       VERFASSUNGSGERICHT\\n           ASSUNGSGERICHT\\n\\n- 2 BvR 1252/99 -\\n\\n- 2 BvR 1253/99 -\\n\\n- 2 BvR 1254/99 -\\n\\n- 2 BvR 1255/99 -\\n\\n- 2 BvR 1256/99 -\\n\\n- 2 BvR 1257/99 -\\n\\n                                   In den VVer\\n                                            erfahr\\n                                               fahren\\n                                                   en\\n                                          über\\n                             die V\\n...   \n",
       "1  BUNDESVERFASSUNGSGERICHT\\n\\n- 1 BvR 189/09 -\\n\\n                                  In dem VVer\\n                                           erfahr\\n                                              fahren\\n                                                  en\\n                                         über\\n                            die V\\n                                Ver\\n                                 erfassungsbesch\\n                                    fassungsbeschwer\\n                   ...   \n",
       "\n",
       "                                                                                                  url_html  \\\n",
       "0  https://www.bundesverfassungsgericht.de/SharedDocs/Entscheidungen/DE/2001/07/rk20010718_2bvr125299.html   \n",
       "1  https://www.bundesverfassungsgericht.de/SharedDocs/Entscheidungen/DE/2009/02/rk20090224_1bvr018909.html   \n",
       "\n",
       "                                                                                                                                                                                                                                                                                                                                                                                                                                                                                                            text_clean  \n",
       "0  die Verfassungsbeschwerden 1. des Herrn H. - 2 BvR 1252/99 -, 2. des Herrn E. - 2 BvR 1253/99 -, 3. des Herrn Josef S. - 2 BvR 1254/99 -, 4. des Herrn Prof. Dr.-Ing. - 2 BvR 1255/99 -, 5. des Herrn Franz-Josef G. - 2 BvR 1256/99 -, 6. des Herrn Willi W. - 2 BvR 1257/99 - - Bevollmächtigte: Rechtsanwälte Heinrich Deubner und Koll., Mozartstraße 13, 76133 Karlsruhe - gegen Artikel 1 des Gesetzes zur Neueinteilung der Wahlkreise für die Wahl zum Deutschen Bundestag vom Juli 1998 (BGBl I S. 1698...  \n",
       "1  die Verfassungsbeschwerde 1. der Frau W…, 2. des Herrn H…, 3. des H…, - Bevollmächtigte: Rechtsanwälte Wurster Wirsing Schotten, Kaiser-Joseph-Straße 247, 79098 Freiburg - gegen a) den Beschluss des Hessischen Verwaltungsgerichtshofs vom 22. Dezember 2008 - 11 C 338/08.T -, - hinsichtlich des Beschwerdeführers zu 2) - b) den Beschluss des Hessischen Verwaltungsgerichtshofs vom 22. Dezember 2008 - 11 B 358/08.T -, - hinsichtlich der Beschwerdeführerin zu 1) - c) den Beschluss des Hessischen V...  "
      ]
     },
     "execution_count": 44,
     "metadata": {},
     "output_type": "execute_result"
    }
   ],
   "source": [
    "df_nlp_final.head(2)"
   ]
  },
  {
   "cell_type": "code",
   "execution_count": 85,
   "metadata": {},
   "outputs": [
    {
     "data": {
      "text/html": [
       "<div>\n",
       "<style scoped>\n",
       "    .dataframe tbody tr th:only-of-type {\n",
       "        vertical-align: middle;\n",
       "    }\n",
       "\n",
       "    .dataframe tbody tr th {\n",
       "        vertical-align: top;\n",
       "    }\n",
       "\n",
       "    .dataframe thead th {\n",
       "        text-align: right;\n",
       "    }\n",
       "</style>\n",
       "<table border=\"1\" class=\"dataframe\">\n",
       "  <thead>\n",
       "    <tr style=\"text-align: right;\">\n",
       "      <th></th>\n",
       "      <th>doc_id</th>\n",
       "      <th>text</th>\n",
       "      <th>url_html</th>\n",
       "      <th>url_pdf</th>\n",
       "      <th>gericht</th>\n",
       "      <th>datum</th>\n",
       "      <th>entscheidungsjahr</th>\n",
       "      <th>entscheidung_typ</th>\n",
       "      <th>spruchkoerper_typ</th>\n",
       "      <th>spruchkoerper_az</th>\n",
       "      <th>...</th>\n",
       "      <th>richter_7</th>\n",
       "      <th>richter_8</th>\n",
       "      <th>richter_9</th>\n",
       "      <th>richter_10</th>\n",
       "      <th>richter_11</th>\n",
       "      <th>richter_12</th>\n",
       "      <th>richter_13</th>\n",
       "      <th>richter_14</th>\n",
       "      <th>richter_15</th>\n",
       "      <th>richter_16</th>\n",
       "    </tr>\n",
       "  </thead>\n",
       "  <tbody>\n",
       "    <tr>\n",
       "      <th>2417</th>\n",
       "      <td>BVerfG_2003-09-24_S_2_BvR_1436_02_NA_Kopftuch-1_108_282.txt</td>\n",
       "      <td>Leitsätze\\n        zum Urteil des Zweiten Senats vom 24. September 2003\\n                          - 2 BvR 1436/02 -\\n\\n1. Ein Verbot für Lehrkräfte, in Schule und Unterricht ein Kopftuch zu tragen, findet im geltenden Recht des Landes Baden-Württemberg keine\\n   hinreichend bestimmte gesetzliche Grundlage.\\n2. Der mit zunehmender religiöser Pluralität verbundene gesellschaftliche Wandel kann für den Gesetzgeber Anlass zu einer Neubestimmung des zulässigen Ausmaße...</td>\n",
       "      <td>https://www.bundesverfassungsgericht.de/SharedDocs/Entscheidungen/DE/2003/09/rs20030924_2bvr143602.html</td>\n",
       "      <td>https://www.bundesverfassungsgericht.de/SharedDocs/Downloads/DE/2003/09/rs20030924_2bvr143602.pdf?__blob=publicationFile&amp;v=1</td>\n",
       "      <td>BVerfG</td>\n",
       "      <td>2003-09-24</td>\n",
       "      <td>2003</td>\n",
       "      <td>U</td>\n",
       "      <td>S</td>\n",
       "      <td>2.0</td>\n",
       "      <td>...</td>\n",
       "      <td>Mellinghoff</td>\n",
       "      <td>Lübbe-Wolff</td>\n",
       "      <td>Di Fabio</td>\n",
       "      <td>None</td>\n",
       "      <td>None</td>\n",
       "      <td>None</td>\n",
       "      <td>None</td>\n",
       "      <td>None</td>\n",
       "      <td>None</td>\n",
       "      <td>None</td>\n",
       "    </tr>\n",
       "    <tr>\n",
       "      <th>2598</th>\n",
       "      <td>BVerfG_2004-03-15_S_2_BvR_1436_02_NA_NA_NA_NA.txt</td>\n",
       "      <td>BUNDESVERFASSUNGSGERICHT\\n- 2 BVR 1436/02 -\\n\\n\\n\\n\\n                                 In dem Verfahren\\n                                       über\\n                           die Verfassungsbeschwerde\\nder Frau L...,\\n\\n- Bevollmächtigte: Rechtsanwälte Dr. Hellmut Nonnenmacher und Koll.,\\n                   Wendtstraße 17, 76185 Karlsruhe -\\ngegen a) das Urteil des Bundesverwaltungsgerichts vom 4. Juli 2002\\n         - BVerwG 2 C 21.01 -,\\n\\n        b) das Urteil des Verwaltungsgerichtshofs...</td>\n",
       "      <td>https://www.bundesverfassungsgericht.de/SharedDocs/Entscheidungen/DE/2004/03/rs20040315_2bvr143602.html</td>\n",
       "      <td>https://www.bundesverfassungsgericht.de/SharedDocs/Downloads/DE/2004/03/rs20040315_2bvr143602.pdf?__blob=publicationFile&amp;v=1</td>\n",
       "      <td>BVerfG</td>\n",
       "      <td>2004-03-15</td>\n",
       "      <td>2004</td>\n",
       "      <td>B</td>\n",
       "      <td>S</td>\n",
       "      <td>2.0</td>\n",
       "      <td>...</td>\n",
       "      <td>Lübbe-Woff</td>\n",
       "      <td>Gerhardt</td>\n",
       "      <td>None</td>\n",
       "      <td>None</td>\n",
       "      <td>None</td>\n",
       "      <td>None</td>\n",
       "      <td>None</td>\n",
       "      <td>None</td>\n",
       "      <td>None</td>\n",
       "      <td>None</td>\n",
       "    </tr>\n",
       "    <tr>\n",
       "      <th>6725</th>\n",
       "      <td>BVerfG_2017-09-11_K_1_BvR_1436_17_NA_NA_NA_NA.txt</td>\n",
       "      <td>BUNDESVERFASSUNGSGERICHT\\n\\n- 1 BvR 1436/17 -\\n\\n                                In dem Verfahren\\n                                      über\\n                          die Verfassungsbeschwerde\\n\\nder Frau H…,\\n\\n- Bevollmächtigter:   S…, LL.M.,\\n\\n\\ngegen a) den Beschluss des Bundesgerichtshofs vom 7. März 2017 - XI ZR 444/\\n         16 -,\\n\\n       b) das Urteil des Oberlandesgerichts Frankfurt am Main vom 19. Juli 2016\\n          - 10 U 137/15 -,\\n\\n       c) das Urteil des Landgerichts ...</td>\n",
       "      <td>https://www.bundesverfassungsgericht.de/SharedDocs/Entscheidungen/DE/2017/09/rk20170911_1bvr143617.html</td>\n",
       "      <td>https://www.bundesverfassungsgericht.de/SharedDocs/Downloads/DE/2017/09/rk20170911_1bvr143617.pdf?__blob=publicationFile&amp;v=1</td>\n",
       "      <td>BVerfG</td>\n",
       "      <td>2017-09-11</td>\n",
       "      <td>2017</td>\n",
       "      <td>B</td>\n",
       "      <td>K</td>\n",
       "      <td>1.0</td>\n",
       "      <td>...</td>\n",
       "      <td>None</td>\n",
       "      <td>None</td>\n",
       "      <td>None</td>\n",
       "      <td>None</td>\n",
       "      <td>None</td>\n",
       "      <td>None</td>\n",
       "      <td>None</td>\n",
       "      <td>None</td>\n",
       "      <td>None</td>\n",
       "      <td>None</td>\n",
       "    </tr>\n",
       "  </tbody>\n",
       "</table>\n",
       "<p>3 rows × 53 columns</p>\n",
       "</div>"
      ],
      "text/plain": [
       "                                                           doc_id  \\\n",
       "2417  BVerfG_2003-09-24_S_2_BvR_1436_02_NA_Kopftuch-1_108_282.txt   \n",
       "2598            BVerfG_2004-03-15_S_2_BvR_1436_02_NA_NA_NA_NA.txt   \n",
       "6725            BVerfG_2017-09-11_K_1_BvR_1436_17_NA_NA_NA_NA.txt   \n",
       "\n",
       "                                                                                                                                                                                                                                                                                                                                                                                                                                                                                                                     text  \\\n",
       "2417                              Leitsätze\\n        zum Urteil des Zweiten Senats vom 24. September 2003\\n                          - 2 BvR 1436/02 -\\n\\n1. Ein Verbot für Lehrkräfte, in Schule und Unterricht ein Kopftuch zu tragen, findet im geltenden Recht des Landes Baden-Württemberg keine\\n   hinreichend bestimmte gesetzliche Grundlage.\\n2. Der mit zunehmender religiöser Pluralität verbundene gesellschaftliche Wandel kann für den Gesetzgeber Anlass zu einer Neubestimmung des zulässigen Ausmaße...   \n",
       "2598  BUNDESVERFASSUNGSGERICHT\\n- 2 BVR 1436/02 -\\n\\n\\n\\n\\n                                 In dem Verfahren\\n                                       über\\n                           die Verfassungsbeschwerde\\nder Frau L...,\\n\\n- Bevollmächtigte: Rechtsanwälte Dr. Hellmut Nonnenmacher und Koll.,\\n                   Wendtstraße 17, 76185 Karlsruhe -\\ngegen a) das Urteil des Bundesverwaltungsgerichts vom 4. Juli 2002\\n         - BVerwG 2 C 21.01 -,\\n\\n        b) das Urteil des Verwaltungsgerichtshofs...   \n",
       "6725  BUNDESVERFASSUNGSGERICHT\\n\\n- 1 BvR 1436/17 -\\n\\n                                In dem Verfahren\\n                                      über\\n                          die Verfassungsbeschwerde\\n\\nder Frau H…,\\n\\n- Bevollmächtigter:   S…, LL.M.,\\n\\n\\ngegen a) den Beschluss des Bundesgerichtshofs vom 7. März 2017 - XI ZR 444/\\n         16 -,\\n\\n       b) das Urteil des Oberlandesgerichts Frankfurt am Main vom 19. Juli 2016\\n          - 10 U 137/15 -,\\n\\n       c) das Urteil des Landgerichts ...   \n",
       "\n",
       "                                                                                                     url_html  \\\n",
       "2417  https://www.bundesverfassungsgericht.de/SharedDocs/Entscheidungen/DE/2003/09/rs20030924_2bvr143602.html   \n",
       "2598  https://www.bundesverfassungsgericht.de/SharedDocs/Entscheidungen/DE/2004/03/rs20040315_2bvr143602.html   \n",
       "6725  https://www.bundesverfassungsgericht.de/SharedDocs/Entscheidungen/DE/2017/09/rk20170911_1bvr143617.html   \n",
       "\n",
       "                                                                                                                           url_pdf  \\\n",
       "2417  https://www.bundesverfassungsgericht.de/SharedDocs/Downloads/DE/2003/09/rs20030924_2bvr143602.pdf?__blob=publicationFile&v=1   \n",
       "2598  https://www.bundesverfassungsgericht.de/SharedDocs/Downloads/DE/2004/03/rs20040315_2bvr143602.pdf?__blob=publicationFile&v=1   \n",
       "6725  https://www.bundesverfassungsgericht.de/SharedDocs/Downloads/DE/2017/09/rk20170911_1bvr143617.pdf?__blob=publicationFile&v=1   \n",
       "\n",
       "     gericht       datum  entscheidungsjahr entscheidung_typ  \\\n",
       "2417  BVerfG  2003-09-24               2003                U   \n",
       "2598  BVerfG  2004-03-15               2004                B   \n",
       "6725  BVerfG  2017-09-11               2017                B   \n",
       "\n",
       "     spruchkoerper_typ  spruchkoerper_az  ...    richter_7    richter_8  \\\n",
       "2417                 S               2.0  ...  Mellinghoff  Lübbe-Wolff   \n",
       "2598                 S               2.0  ...   Lübbe-Woff     Gerhardt   \n",
       "6725                 K               1.0  ...         None         None   \n",
       "\n",
       "      richter_9  richter_10  richter_11 richter_12 richter_13  richter_14  \\\n",
       "2417   Di Fabio        None        None       None       None        None   \n",
       "2598       None        None        None       None       None        None   \n",
       "6725       None        None        None       None       None        None   \n",
       "\n",
       "      richter_15  richter_16  \n",
       "2417        None        None  \n",
       "2598        None        None  \n",
       "6725        None        None  \n",
       "\n",
       "[3 rows x 53 columns]"
      ]
     },
     "execution_count": 85,
     "metadata": {},
     "output_type": "execute_result"
    }
   ],
   "source": [
    "df[df[\"eingangsnummer\"] == 1436 ]"
   ]
  },
  {
   "cell_type": "code",
   "execution_count": null,
   "metadata": {},
   "outputs": [],
   "source": [
    "registerzeichen = df[\"registerzeichen\"].unique()\n",
    "\n",
    "def clean_text_chars(text):\n",
    "    # Remove anythin between dashes\n",
    "    text = re.sub(r'-[^-]+-', '', text)\n",
    "    # Remove optional number + registerzeichen + number/number\n",
    "    text = re.sub(r'\\b\\d*\\s*registerzeichen\\s*\\d+/\\d+\\b', '', text)\n",
    "    # Remove anything in parentheses; old cases\n",
    "    text = re.sub(r'\\(.*?\\)', ' ', text)  \n",
    "    # Whitespaces\n",
    "    text = re.sub(r\"\\s+\", \" \", text)\n",
    "    return text"
   ]
  },
  {
   "cell_type": "code",
   "execution_count": 46,
   "metadata": {},
   "outputs": [],
   "source": [
    "df_nlp_final['text_clean2'] = df_nlp_final['text_clean'].apply(clean_text_chars)"
   ]
  },
  {
   "cell_type": "code",
   "execution_count": 47,
   "metadata": {},
   "outputs": [
    {
     "data": {
      "text/plain": [
       "'die Verfassungsbeschwerde des Herrn , gegen a) den Beschluss des Schleswig 1 Ws 34/23 H 40 Gs 1205/21 Holsteinischen Oberlandesgerichts im ersten Haftprüfungstermin. I. 2 1. Der 37Chat“Holsteinische Oberlandesgericht auf Antrag der Generalstaatsanwaltschaft die Fortdauer der Untersuchungshaft an. Die Haftfortdauer über sechs Monate hinaus sei aus wichtigem Grund gerechtfertigt und auch nicht unverhältnismäßig. Zur Begründung schloss sich das Oberlandesgericht den Ausführungen der Generalstaatsanwaltschaft an: Es sei der bei der Jahresgeschäftsverteilung 2023 nicht vorhersehbaren ungewöhnlich hohen Belastung der Kammer geschuldet, dass der Beginn der Hauptverhandlung erst ab dem 23. Januar 2024 vorgesehen sei. Die Kammer verhandele derzeit zwei umfangreiche Schwurgerichtsverfahren mit 77 beziehungsweise 127 in den Anklagen benannten Zeugen, weshalb Hauptverhandlungstermine nicht mehr zur Verfügung stünden. Bis Jahresende müsse die Kammer eine weitere, bereits länger eingegangene Haftsache gegen einen minderjährigen Angeklagten verhandeln. Die kurzfristige Überlastung der Kammer beruhe nicht auf gerichtsorganisatorischen Gründen, so dass die Verfahrensverzögerung insbesondere angesichts der Schwere der dem Angeschuldigten vorgeworfenen Straftaten keinen durchgreifenden Bedenken begegne. 6 Das Oberlandesgericht führte am Ende seines Beschlusses aus, der Schriftsatz der Verteidigung vom 9. November 2023 habe dem Senat vorgelegen. II. 7 Mit seiner Verfassungsbeschwerde rügt der Beschwerdeführer eine Verletzung seines Freiheitsgrundrechts aus Art. 2 Abs. 2 Satz 2 GG unter dem Gesichtspunkt des Beschleunigungsgebotes im Zwischenverfahren. Die Verfassungsbeschwerde verbindet der Beschwerdeführer mit einem Antrag auf Erlass einer einstweiligen Anordnung, ihn aus der Untersuchungshaft zu entlassen. III. 8 Die Verfassungsbeschwerde ist nicht zur Entscheidung anzunehmen, da sie unzulässig ist. Soweit sie sich gegen den Haftbefehl des Amtsgerichts Itzehoe vom 25. Juni 2021 richtet, fehlt dem Beschwerdeführer das Rechtsschutzbedürfnis . Soweit sich der Beschwerdeführer gegen den Haftfortdauerbeschluss des SchleswigHolsteinischen Oberlandesgerichts den verfassungsrechtlich entwickelten Maßstäben nicht gerecht wird und den Beschwerdeführer in seinem Freiheitsgrundrecht verletzt . 9 1. In Haftsachen bildet ausschließlich die letzte Haftentscheidung die Grundlage für den Vollzug der Untersuchungshaft; vorangegangene Haftentscheidungen vermögen die Haftfortdauer nicht mehr zu beeinflussen . Die Gerichte prüfen in den nachfolgenden Haftfortdauerentscheidungen die Rechtmäßigkeit der weiteren Inhaftierung grundsätzlich in vollem Umfang. Daher fehlt dem Beschwerdeführer für die Aufhebung vorangegangener Haftentscheidungen regelmäßig das Rechtsschutzbedürfnis . Ein fortdauerndes Rechtsschutzbedürfnis an der Überprüfung des überholten Ausgangshaftbefehls zeigt der Beschwerdeführer nicht auf . 10 2. Soweit der Beschwerdeführer die Haftfortdauerentscheidung des Oberlandesgerichts angreift, hat er zwar den Rechtsweg erschöpft, weil eine Anhörungsrüge nur im Falle der Geltendmachung einer Verletzung des Anspruchs auf rechtliches Gehör zum Rechtsweg gehört . Die Erhebung einer Anhörungsrüge war hier jedoch mit Rücksicht auf den Grundsatz der Subsidiarität der Verfassungsbeschwerde geboten. 11 a) Der in § 90 Abs. 2 BVerfGG zum Ausdruck kommende Grundsatz der Subsidiarität der Verfassungsbeschwerde verlangt, dass Beschwerdeführer alle nach Lage der Dinge zur Verfügung stehenden prozessualen Möglichkeiten ergreifen, um die geltend gemachte Grundrechtsverletzung schon im fachgerichtlichen Verfahren zu verhindern oder zu beseitigen . Das kann bedeuten, dass Beschwerdeführer gehalten sind, im fachgerichtlichen Verfahren eine Gehörsverletzung selbst dann anzugreifen, wenn sie im Rahmen der ihnen insoweit zustehenden Dispositionsfreiheit mit der Verfassungsbeschwerde zwar keinen Verstoß gegen Art. 103 Abs. 1 GG rügen wollen , durch den fachgerichtlichen Rechtsbehelf aber die Möglichkeit wahren, dass bei Erfolg der Gehörsverletzungsrüge in den vor den Fachgerichten gegebenenfalls erneut durchzuführenden Verfahrensschritten auch andere Grundrechtsverletzungen, durch die sie sich beschwert fühlen, beseitigt werden . 12 Die Verweisung auf die Subsidiarität der Verfassungsbeschwerde steht allerdings unter dem Vorbehalt der Zumutbarkeit der prozessualen Möglichkeit zur Abhilfe . Zur Vermeidung der Unzulässigkeit einer Verfassungsbeschwerde ohne Rüge der Verletzung des Art. 103 Abs. 1 GG müssen Beschwerdeführer daher aus Gründen der Subsidiarität eine Anhörungsrüge nur dann ergreifen, wenn den Umständen nach ein Gehörsverstoß durch die Fachgerichte nahe liegt und zu erwarten wäre, dass vernünftige Verfahrensbeteiligte mit Rücksicht auf die geltend gemachte Beschwer bereits im gerichtlichen Verfahren einen entsprechenden Rechtsbehelf ergreifen würden . 13 b) Gemessen hieran hätte der Beschwerdeführer ein Anhörungsrügeverfahren vor Erhebung der Verfassungsbeschwerde durchführen müssen. Eine Anhörungsrüge gegen den Beschluss des Oberlandesgerichts wäre nach § 33a StPO statthaft gewesen. Den Umständen nach liegt ein Gehörsverstoß durch das Oberlandesgericht hier nahe, weil es auf die vom Verteidiger des Beschwerdeführers im Schriftsatz vom 9. November 2023 vorgetragenen Argumente nicht eingegangen ist. 14 Ein Gehörsverstoß scheidet nicht deswegen aus, weil grundsätzlich davon auszugehen ist, dass ein Gericht das Vorbringen der Beteiligten zur Kenntnis genommen und in Erwägung gezogen hat. Zwar sind Gerichte bei der Begründung ihrer Entscheidung grundsätzlich nicht verpflichtet, sich mit jedem Vorbringen ausdrücklich zu befassen, insbesondere nicht – wie hier – bei letztinstanzlichen, mit ordentlichen Rechtsmitteln nicht mehr angreifbaren Entscheidungen . Wenn aber ein bestimmter Vortrag einer Partei den Kern des Parteivorbringens darstellt und für den Verfahrensausgang eindeutig von entscheidender Bedeutung ist, besteht für das Gericht eine Pflicht, die vorgebrachten Argumente zu erwägen. Ein Schweigen lässt hier den Schluss zu, dass der Vortrag der Prozesspartei nicht oder zumindest nicht hinreichend beachtet wurde, sofern der Vortrag nicht nach dem Rechtsstandpunkt des Gerichts unerheblich oder aber offensichtlich unsubstantiiert war . 15 Demnach wäre das Oberlandesgericht zu Ausführungen dazu verpflichtet gewesen, weshalb es das substantiierte Kernvorbringen des Verteidigers in dessen Schriftsatz vom 9. November 2023 gegen die Fortdauer der Untersuchungshaft für nicht relevant oder überzeugend hielt. Ein Gehörsverstoß scheidet nicht deshalb aus, weil das Oberlandesgericht am Ende seiner Entscheidung die Bemerkung anfügte, der Schriftsatz der Verteidigung habe dem Senat vorgelegen. Die Bemerkung ändert am Schweigen des Oberlandesgerichts zu den vorgetragenen Argumenten des Verteidigers nichts. Sie widerspricht auch in diesem Fall nicht der Folgerung, das Oberlandesgericht habe die vorgetragenen, entscheidungserheblichen Gründe nicht hinreichend erwogen. Eine Positionierung des Oberlandesgerichts zu den vorgebrachten Argumenten ergibt sich aus dieser Bemerkung nicht. Mit der Anhörungsrüge hätte der Beschwerdeführer die Möglichkeit gewahrt, dass eine Grundrechtsverletzung durch das Oberlandesgericht selbst beseitigt wird. 16 3. Der Beschluss des Oberlandesgerichts wird den verfassungsrechtlichen Maßstäben nicht gerecht. Das Verfahren wurde nach Eingang der Anklageschrift beim Landgericht nicht in der durch das Gewicht des Freiheitseingriffs gebotenen Zügigkeit gefördert. 17 a) Es handelt sich bei der hier eingetretenen Verzögerung nicht um eine nur kleinere Verfahrensverzögerung, die entsprechend dem Gewicht der zu ahndenden Straftat die Fortdauer der Untersuchungshaft rechtfertigen könnte . Das Landgericht hatte trotz Ablaufs von mehr als fünf Monaten seit dem Eingang der Anklage am 31. Mai 2023 noch nicht über die Zulassung der Anklage und die Eröffnung des Hauptverfahrens entschieden. Anhaltspunkte dafür, dass jedenfalls nach Ablauf der Frist zur Stellungnahme des Beschwerdeführers am 4. Juli 2023 noch keine Eröffnungsreife vorgelegen haben könnte, sind nicht ersichtlich. Noch ausstehende Ermittlungen sind nicht genannt. Die Bezeichnung dieser Verzögerung im angefochtenen Beschluss als „kurzfristig“ ist nicht nachvollziehbar. 18 b) Die vom Oberlandesgericht für die Verzögerung im Zwischenverfahren angeführten Gründe rechtfertigen den Eingriff in das Freiheitsgrundrecht aus Art. 2 Abs. 2 Satz 2 in Verbindung mit Art. 104 GG nicht. 19 Die „ungewöhnlich hohe Belastung der Kammer“ durch bereits vor der Anklage des Beschwerdeführers eingegangene Schwurgerichtsverfahren stellen vom Beschwerdeführer nicht zu vertretende, sachlich nicht gerechtfertigte Umstände dar. Diesen Umständen kann zur Aufrechterhaltung der Untersuchungshaft nicht allein die Schwere der Tat und die sich daraus ergebende Straferwartung entgegengehalten werden . Da die Überlastung eines Gerichts in den Verantwortungsbereich der staatlich verfassten Gemeinschaft fällt, kommt es jedenfalls angesichts der hier gegebenen, nicht nur kurzfristigen Überlastung auf deren Vorhersehbarkeit nicht an . 20 Der vom Oberlandesgericht für die Verzögerung zusätzlich angeführte Umstand, der Kammer stünden vor dem Sechsmonatstermin keine Hauptverhandlungstermine mehr zur Verfügung, stellt bereits keine schlüssige Begründung dafür dar, weshalb zumindest eine Eröffnung des Hauptverfahrens noch nicht hatte erfolgen können. Auch im Zwischenverfahren muss das Verfahren mit der gebotenen Zügigkeit gefördert werden, um bei Entscheidungsreife über die Zulassung der Anklage zur Hauptverhandlung zu beschließen . Jedenfalls kann allein die Üblichkeit, die Entscheidung über die Eröffnung des Hauptverfahrens mit der Verfügung des Vorsitzenden über die Terminierung der Hauptverhandlung zeitlich zusammen vorzunehmen, keine Verzögerung einer Eröffnungsentscheidung rechtfertigen, sollte eine Terminierung der Hauptverhandlung noch nicht möglich sein. 21 Von einer weiteren Begründung wird nach § 93d Abs. 1 Satz 3 BVerfGG abgesehen. 22 Diese Entscheidung ist unanfechtbar. Langenfeld Fetzer Offenloch '"
      ]
     },
     "execution_count": 47,
     "metadata": {},
     "output_type": "execute_result"
    }
   ],
   "source": [
    "df_nlp_final['text_clean2'].iloc[300]"
   ]
  },
  {
   "cell_type": "code",
   "execution_count": 48,
   "metadata": {},
   "outputs": [],
   "source": [
    "# Removes dates, often given in form \"dd. Month YYYY\"\n",
    "def remove_dates(text):\n",
    "    text = re.sub(r'\\b\\d{1,2}\\.\\s?(Januar|Februar|März|April|Mai|Juni|Juli|August|September|Oktober|November|Dezember)\\s?\\d{2,4}\\b', '', text)\n",
    "    text = re.sub(r\"\\s+\", \" \", text)\n",
    "    return text"
   ]
  },
  {
   "cell_type": "code",
   "execution_count": 49,
   "metadata": {},
   "outputs": [],
   "source": [
    "df_nlp_final['text_clean2'] = df_nlp_final['text_clean2'].apply(remove_dates)"
   ]
  },
  {
   "cell_type": "code",
   "execution_count": 50,
   "metadata": {},
   "outputs": [],
   "source": [
    "# Get all possible Gesetzesbücher from which are quoted\n",
    "gesetzes_abkuerzungen = [\n",
    "    \"GG\", \"BGB\", \"HGB\", \"InsO\", \"WEG\", \"BMG\", \n",
    "    \"EStG\" ,\"AO\" ,\"UStG\", \"KStG\", \"GewStG\" ,\n",
    "    \"StVO\" ,\"FZV\", \"FeV\", \"StVG\" ,\"BKatV\" ,\"StVZO\" ,\n",
    "    \"AufenthG\" ,\"AsylG\" ,\"AufenthV\", \"BeschV\", \"IntV\" ,\n",
    "    \"BImSchG\", \"BNatSchG\", \"WHG\", \"TierSchG\",\n",
    "\"StGB\", \"StPO\" ,\"EGStPO\", \"JGG\", \"IRG\",\n",
    "\"ZPO\", \"EGZPO\", \"FamFG\", \"ZVG\",\n",
    "\"GVG\", \"SGG\" ,\"ArbGG\", \"VwGO\" ,\"BVerfGG\" ,\"VwVfG\",\n",
    "\"RVG\", \"GKG\", \"FamGKG\" ,\"GNotKG\" ,\"JVEG\",\n",
    "\"BRAO\", \"BNotO\" ,\"RDG\", \"DRiG\", \"PAO\" ,\"RPflG\", \n",
    "# Added\n",
    "\"BWahlG\", \"AsylbLG\", \"HmbPolDVG\", \"Bundesverfassungsgerichtsgesetz\", \"WRV\"]\n",
    "\n",
    "gesetzes_abkuerzungen_pattern = r'\\b(?:' + '|'.join(gesetzes_abkuerzungen) + r')\\b'\n",
    "\n",
    "# Extract anything starting with either \"§\" or \"Art.\"\n",
    "def extract_laws(text):\n",
    "    pattern =r'(?:§{1,2}\\s?.*?\\s' + gesetzes_abkuerzungen_pattern + r')|(?:Art\\.\\s?.*?\\s' + gesetzes_abkuerzungen_pattern + r')'\n",
    "    matches = re.findall(pattern, text)\n",
    "    return matches if matches else None"
   ]
  },
  {
   "cell_type": "code",
   "execution_count": 51,
   "metadata": {},
   "outputs": [],
   "source": [
    "df_nlp_final['gesetzesverweise'] = df_nlp_final['text_clean2'].apply(extract_laws)"
   ]
  },
  {
   "cell_type": "code",
   "execution_count": 52,
   "metadata": {},
   "outputs": [],
   "source": [
    "# After extracting laws, and quotes, we can remove any kind of number and special chars\n",
    "def remove_all_special_chars(text):\n",
    "    # Remove any special signs like punctuation\n",
    "    text = re.sub(r'[^a-zA-Z0-9äöüßÄÖÜ\\s]', '', text)\n",
    "    # Remove any 1 length letters\n",
    "    text = re.sub(r'\\b\\w\\b', '', text).strip()\n",
    "\n",
    "    # Remove any number with a letter afterwards, e.g, 93a\n",
    "    text = re.sub(r'\\b\\d+[a-zA-Z]?\\b', '', text)\n",
    "\n",
    "    text = re.sub(r'\\s+', \" \", text)\n",
    "    return text"
   ]
  },
  {
   "cell_type": "code",
   "execution_count": 53,
   "metadata": {},
   "outputs": [],
   "source": [
    "df_nlp_final['clean_wo_numbers'] = df_nlp_final['text_clean2'].apply(remove_all_special_chars)"
   ]
  },
  {
   "cell_type": "code",
   "execution_count": 54,
   "metadata": {},
   "outputs": [
    {
     "data": {
      "text/plain": [
       "text_clean2         die Verfassungsbeschwerden des Herrn M... I. gegen a) den Beschluss des Bundesgerichtshofs vom , b) das Urteil des Landgerichts Augsburg vom , c) den Beschluss des Bundesgerichtshofs vom , d) das Urteil des Landgerichts Augsburg vom , II. gegen den Beschluss des Oberlandesgerichts München vom hat die 2. Kammer des Zweiten Senats des Bundesverfassungsgerichts durch die Richter Broß, Di Fabio und Landau gemäß § 93b in Verbindung mit § 93a BVerfGG in der Fassung der Bekannt­machung vom am einst...\n",
       "clean_wo_numbers    die Verfassungsbeschwerden des Herrn gegen den Beschluss des Bundesgerichtshofs vom das Urteil des Landgerichts Augsburg vom den Beschluss des Bundesgerichtshofs vom das Urteil des Landgerichts Augsburg vom II gegen den Beschluss des Oberlandesgerichts München vom hat die Kammer des Zweiten Senats des Bundesverfassungsgerichts durch die Richter Broß Di Fabio und Landau gemäß in Verbindung mit BVerfGG in der Fassung der Bekanntmachung vom am einstimmig beschlossen Die zur gemeinsamen Entschei...\n",
       "Name: 2, dtype: object"
      ]
     },
     "execution_count": 54,
     "metadata": {},
     "output_type": "execute_result"
    }
   ],
   "source": [
    "df_nlp_final[[\"text_clean2\", \"clean_wo_numbers\"]].iloc[2]"
   ]
  },
  {
   "cell_type": "code",
   "execution_count": 55,
   "metadata": {},
   "outputs": [
    {
     "data": {
      "text/plain": [
       "text                   0\n",
       "url_html               0\n",
       "text_clean             0\n",
       "text_clean2            0\n",
       "gesetzesverweise    1360\n",
       "clean_wo_numbers       0\n",
       "dtype: int64"
      ]
     },
     "execution_count": 55,
     "metadata": {},
     "output_type": "execute_result"
    }
   ],
   "source": [
    "df_nlp_final.isna().sum()"
   ]
  },
  {
   "cell_type": "code",
   "execution_count": 56,
   "metadata": {},
   "outputs": [
    {
     "data": {
      "text/html": [
       "<div>\n",
       "<style scoped>\n",
       "    .dataframe tbody tr th:only-of-type {\n",
       "        vertical-align: middle;\n",
       "    }\n",
       "\n",
       "    .dataframe tbody tr th {\n",
       "        vertical-align: top;\n",
       "    }\n",
       "\n",
       "    .dataframe thead th {\n",
       "        text-align: right;\n",
       "    }\n",
       "</style>\n",
       "<table border=\"1\" class=\"dataframe\">\n",
       "  <thead>\n",
       "    <tr style=\"text-align: right;\">\n",
       "      <th></th>\n",
       "      <th>text</th>\n",
       "      <th>url_html</th>\n",
       "      <th>text_clean</th>\n",
       "      <th>text_clean2</th>\n",
       "      <th>gesetzesverweise</th>\n",
       "      <th>clean_wo_numbers</th>\n",
       "    </tr>\n",
       "  </thead>\n",
       "  <tbody>\n",
       "    <tr>\n",
       "      <th>17</th>\n",
       "      <td>BUNDES\\nBUNDESVERF\\n       VERFASSUNGSGERICHT\\n           ASSUNGSGERICHT\\n\\n- 2 BvR 2216/20 -\\n\\n- 2 BvR 2217/20 -\\n\\n\\n\\n\\n                                  IM NAMEN DES V\\n                                               VOLKES\\n                                                 OLKES\\n\\n                                     In den V\\n                                            Ver\\n                                             erfahr\\n                                                fahren\\n    ...</td>\n",
       "      <td>https://www.bundesverfassungsgericht.de/SharedDocs/Entscheidungen/DE/2022/07/rs20220713_2bvr221620.html</td>\n",
       "      <td>die Verfassungsbeschwerde 1. des Herrn (…), 2. der (…)-GmbH, vertreten durch den Geschäftsführer (…), 3. des (…)-e.V., vertreten durch den Vorstand (…), - Bevollmächtigte: (…), - gegen Artikel 1 und Artikel 3 Absatz 1 des Gesetzes zu dem Übereinkommen vom 19. Februar 2013 über ein Einheitliches Patentgericht (Beschluss des Bundestages vom 26. November 2020, Plenarprotokoll 19/195 Seite 24661 &lt;D&gt;, Beschluss des Bundesrates vom 18. Dezember 2020, BTDrucks 19/22847) - 2 BvR 2216/20 -, II. über ...</td>\n",
       "      <td>die Verfassungsbeschwerde 1. des Herrn , 2. der e.V., vertreten durch den Vorstand , gegen Artikel 1 und Artikel 3 Absatz 1 des Gesetzes zu dem Übereinkommen vom über ein Einheitliches Patentgericht , II. über die Verfassungsbeschwerde des Herrn Dr. Ingve Björn Stjerna, LL.M., GrafPlatz 15, 40213 Düsseldorf, gegen Artikel 1 und Artikel 3 Absatz 1 des Gesetzes zu dem Übereinkommen vom über ein Einheitliches Patentgericht hat das Bundesverfassungsgericht unter Mitwirkung der Richterinnen und R...</td>\n",
       "      <td>None</td>\n",
       "      <td>die Verfassungsbeschwerde des Herrn der eV vertreten durch den Vorstand gegen Artikel und Artikel Absatz des Gesetzes zu dem Übereinkommen vom über ein Einheitliches Patentgericht II über die Verfassungsbeschwerde des Herrn Dr Ingve Björn Stjerna LLM GrafPlatz Düsseldorf gegen Artikel und Artikel Absatz des Gesetzes zu dem Übereinkommen vom über ein Einheitliches Patentgericht hat das Bundesverfassungsgericht unter Mitwirkung der Richterinnen und Richter Vizepräsidentin König Huber Hermanns ...</td>\n",
       "    </tr>\n",
       "    <tr>\n",
       "      <th>28</th>\n",
       "      <td>BUNDES\\nBUNDESVERF\\n       VERFASSUNGSGERICHT\\n           ASSUNGSGERICHT\\n\\n- 2 BvR 2189/22 -\\n\\nWiederholungswahl Berlin - eA\\n\\n\\n\\n\\n                                IM NAMEN DES V\\n                                             VOLKES\\n                                               OLKES\\n\\n                                  In dem VVer\\n                                           erfahr\\n                                              fahren\\n                                                  e...</td>\n",
       "      <td>https://www.bundesverfassungsgericht.de/SharedDocs/Entscheidungen/DE/2023/01/rs20230125_2bvr218922.html</td>\n",
       "      <td>die Verfassungsbeschwerde des Herrn (...) sowie 41 weiterer Beschwerdeführerinnen und Beschwerdeführer, - Bevollmächtigte: Rechtsanwälte Redeker Sellner Dahs Partnerschaftsgesellschaft mbB Leipziger Platz 3, 10117 Berlin - gegen das Urteil des Verfassungsgerichtshofs des Landes Berlin vom 16. November 2022 - VerfGH 154/21, VerfGH 156/21, VerfGH 171/21 und VerfGH 172/21 - hier: Antrag auf Erlass einer einstweiligen Anordung hat das Bundesverfassungsgericht - Zweiter Senat - unter Mitwirkung d...</td>\n",
       "      <td>die Verfassungsbeschwerde des Herrn sowie 41 weiterer Beschwerdeführerinnen und Beschwerdeführer, gegen das Urteil des Verfassungsgerichtshofs des Landes Berlin vom hier: Antrag auf Erlass einer einstweiligen Anordung hat das Bundesverfassungsgericht unter Mitwirkung der Richterinnen und Richter Vizepräsidentin König, Müller, KessalWulf Langenfeld Wallrabenstein Fetzer Offenloch</td>\n",
       "      <td>None</td>\n",
       "      <td>die Verfassungsbeschwerde des Herrn sowie weiterer Beschwerdeführerinnen und Beschwerdeführer gegen das Urteil des Verfassungsgerichtshofs des Landes Berlin vom hier Antrag auf Erlass einer einstweiligen Anordung hat das Bundesverfassungsgericht unter Mitwirkung der Richterinnen und Richter Vizepräsidentin König Müller KessalWulf Langenfeld Wallrabenstein Fetzer Offenloch</td>\n",
       "    </tr>\n",
       "  </tbody>\n",
       "</table>\n",
       "</div>"
      ],
      "text/plain": [
       "                                                                                                                                                                                                                                                                                                                                                                                                                                                                                                                   text  \\\n",
       "17  BUNDES\\nBUNDESVERF\\n       VERFASSUNGSGERICHT\\n           ASSUNGSGERICHT\\n\\n- 2 BvR 2216/20 -\\n\\n- 2 BvR 2217/20 -\\n\\n\\n\\n\\n                                  IM NAMEN DES V\\n                                               VOLKES\\n                                                 OLKES\\n\\n                                     In den V\\n                                            Ver\\n                                             erfahr\\n                                                fahren\\n    ...   \n",
       "28  BUNDES\\nBUNDESVERF\\n       VERFASSUNGSGERICHT\\n           ASSUNGSGERICHT\\n\\n- 2 BvR 2189/22 -\\n\\nWiederholungswahl Berlin - eA\\n\\n\\n\\n\\n                                IM NAMEN DES V\\n                                             VOLKES\\n                                               OLKES\\n\\n                                  In dem VVer\\n                                           erfahr\\n                                              fahren\\n                                                  e...   \n",
       "\n",
       "                                                                                                   url_html  \\\n",
       "17  https://www.bundesverfassungsgericht.de/SharedDocs/Entscheidungen/DE/2022/07/rs20220713_2bvr221620.html   \n",
       "28  https://www.bundesverfassungsgericht.de/SharedDocs/Entscheidungen/DE/2023/01/rs20230125_2bvr218922.html   \n",
       "\n",
       "                                                                                                                                                                                                                                                                                                                                                                                                                                                                                                             text_clean  \\\n",
       "17  die Verfassungsbeschwerde 1. des Herrn (…), 2. der (…)-GmbH, vertreten durch den Geschäftsführer (…), 3. des (…)-e.V., vertreten durch den Vorstand (…), - Bevollmächtigte: (…), - gegen Artikel 1 und Artikel 3 Absatz 1 des Gesetzes zu dem Übereinkommen vom 19. Februar 2013 über ein Einheitliches Patentgericht (Beschluss des Bundestages vom 26. November 2020, Plenarprotokoll 19/195 Seite 24661 <D>, Beschluss des Bundesrates vom 18. Dezember 2020, BTDrucks 19/22847) - 2 BvR 2216/20 -, II. über ...   \n",
       "28  die Verfassungsbeschwerde des Herrn (...) sowie 41 weiterer Beschwerdeführerinnen und Beschwerdeführer, - Bevollmächtigte: Rechtsanwälte Redeker Sellner Dahs Partnerschaftsgesellschaft mbB Leipziger Platz 3, 10117 Berlin - gegen das Urteil des Verfassungsgerichtshofs des Landes Berlin vom 16. November 2022 - VerfGH 154/21, VerfGH 156/21, VerfGH 171/21 und VerfGH 172/21 - hier: Antrag auf Erlass einer einstweiligen Anordung hat das Bundesverfassungsgericht - Zweiter Senat - unter Mitwirkung d...   \n",
       "\n",
       "                                                                                                                                                                                                                                                                                                                                                                                                                                                                                                            text_clean2  \\\n",
       "17  die Verfassungsbeschwerde 1. des Herrn , 2. der e.V., vertreten durch den Vorstand , gegen Artikel 1 und Artikel 3 Absatz 1 des Gesetzes zu dem Übereinkommen vom über ein Einheitliches Patentgericht , II. über die Verfassungsbeschwerde des Herrn Dr. Ingve Björn Stjerna, LL.M., GrafPlatz 15, 40213 Düsseldorf, gegen Artikel 1 und Artikel 3 Absatz 1 des Gesetzes zu dem Übereinkommen vom über ein Einheitliches Patentgericht hat das Bundesverfassungsgericht unter Mitwirkung der Richterinnen und R...   \n",
       "28                                                                                                                       die Verfassungsbeschwerde des Herrn sowie 41 weiterer Beschwerdeführerinnen und Beschwerdeführer, gegen das Urteil des Verfassungsgerichtshofs des Landes Berlin vom hier: Antrag auf Erlass einer einstweiligen Anordung hat das Bundesverfassungsgericht unter Mitwirkung der Richterinnen und Richter Vizepräsidentin König, Müller, KessalWulf Langenfeld Wallrabenstein Fetzer Offenloch    \n",
       "\n",
       "   gesetzesverweise  \\\n",
       "17             None   \n",
       "28             None   \n",
       "\n",
       "                                                                                                                                                                                                                                                                                                                                                                                                                                                                                                       clean_wo_numbers  \n",
       "17  die Verfassungsbeschwerde des Herrn der eV vertreten durch den Vorstand gegen Artikel und Artikel Absatz des Gesetzes zu dem Übereinkommen vom über ein Einheitliches Patentgericht II über die Verfassungsbeschwerde des Herrn Dr Ingve Björn Stjerna LLM GrafPlatz Düsseldorf gegen Artikel und Artikel Absatz des Gesetzes zu dem Übereinkommen vom über ein Einheitliches Patentgericht hat das Bundesverfassungsgericht unter Mitwirkung der Richterinnen und Richter Vizepräsidentin König Huber Hermanns ...  \n",
       "28                                                                                                                               die Verfassungsbeschwerde des Herrn sowie weiterer Beschwerdeführerinnen und Beschwerdeführer gegen das Urteil des Verfassungsgerichtshofs des Landes Berlin vom hier Antrag auf Erlass einer einstweiligen Anordung hat das Bundesverfassungsgericht unter Mitwirkung der Richterinnen und Richter Vizepräsidentin König Müller KessalWulf Langenfeld Wallrabenstein Fetzer Offenloch  "
      ]
     },
     "execution_count": 56,
     "metadata": {},
     "output_type": "execute_result"
    }
   ],
   "source": [
    "df_nlp_final[df_nlp_final[\"gesetzesverweise\"].isna()].head(2)"
   ]
  },
  {
   "cell_type": "code",
   "execution_count": 57,
   "metadata": {},
   "outputs": [
    {
     "data": {
      "text/html": [
       "<div>\n",
       "<style scoped>\n",
       "    .dataframe tbody tr th:only-of-type {\n",
       "        vertical-align: middle;\n",
       "    }\n",
       "\n",
       "    .dataframe tbody tr th {\n",
       "        vertical-align: top;\n",
       "    }\n",
       "\n",
       "    .dataframe thead th {\n",
       "        text-align: right;\n",
       "    }\n",
       "</style>\n",
       "<table border=\"1\" class=\"dataframe\">\n",
       "  <thead>\n",
       "    <tr style=\"text-align: right;\">\n",
       "      <th></th>\n",
       "      <th>text</th>\n",
       "      <th>url_html</th>\n",
       "      <th>clean_w_numbers</th>\n",
       "      <th>gesetzesverweise</th>\n",
       "      <th>clean_wo_numbers</th>\n",
       "    </tr>\n",
       "  </thead>\n",
       "  <tbody>\n",
       "    <tr>\n",
       "      <th>0</th>\n",
       "      <td>BUNDES\\nBUNDESVERF\\n       VERFASSUNGSGERICHT\\n           ASSUNGSGERICHT\\n\\n- 2 BvR 1252/99 -\\n\\n- 2 BvR 1253/99 -\\n\\n- 2 BvR 1254/99 -\\n\\n- 2 BvR 1255/99 -\\n\\n- 2 BvR 1256/99 -\\n\\n- 2 BvR 1257/99 -\\n\\n                                   In den VVer\\n                                            erfahr\\n                                               fahren\\n                                                   en\\n                                          über\\n                             die V\\n...</td>\n",
       "      <td>https://www.bundesverfassungsgericht.de/SharedDocs/Entscheidungen/DE/2001/07/rk20010718_2bvr125299.html</td>\n",
       "      <td>die Verfassungsbeschwerden 1. des Herrn H. , 2. des Herrn E. , 3. des Herrn Josef S. , 4. des Herrn Prof. Dr. 2 BvR 1255/99 Josef G. , 6. des Herrn Willi W. gegen Artikel 1 des Gesetzes zur Neueinteilung der Wahlkreise für die Wahl zum Deutschen Bundestag vom Juli 1998 in Verbindung mit der Anlage zu § 2 Absatz 2 des Bundeswahlgesetzes, als danach der bisherige Wahlkreis 79 in die Wahlkreise 111 aufgeteilt wird hat die 4. Kammer des Zweiten Senats des Bundesverfassungs­gerichts durch die Ric...</td>\n",
       "      <td>[§ 2 Absatz 2 des Bundeswahlgesetzes, als danach der bisherige Wahlkreis 79 in die Wahlkreise 111 aufgeteilt wird hat die 4. Kammer des Zweiten Senats des Bundesverfassungs­gerichts durch die Richterin Präsidentin Limbach und die Richter Jentsch, Di Fabio gemäß § 93b in Verbindung mit § 93a BVerfGG, Art. 38 Abs. 1 Satz 1 GG, § 93a Abs. 2 BVerfGG, §§ 92, 23 Abs. 1 Satz 2 BVerfGG, § 21 Abs. 1 BWahlG, Art. 38 Abs. 1 GG, Art. 3 Abs. 1 GG, Art. 38 Abs. 1 Satz 1 GG, § 3 Abs. 1 BWahlG, § 3 Abs. 1 B...</td>\n",
       "      <td>die Verfassungsbeschwerden des Herrn des Herrn des Herrn Josef des Herrn Prof Dr BvR Josef des Herrn Willi gegen Artikel des Gesetzes zur Neueinteilung der Wahlkreise für die Wahl zum Deutschen Bundestag vom Juli in Verbindung mit der Anlage zu Absatz des Bundeswahlgesetzes als danach der bisherige Wahlkreis in die Wahlkreise aufgeteilt wird hat die Kammer des Zweiten Senats des Bundesverfassungsgerichts durch die Richterin Präsidentin Limbach und die Richter Jentsch Di Fabio gemäß in Verbin...</td>\n",
       "    </tr>\n",
       "    <tr>\n",
       "      <th>1</th>\n",
       "      <td>BUNDESVERFASSUNGSGERICHT\\n\\n- 1 BvR 189/09 -\\n\\n                                  In dem VVer\\n                                           erfahr\\n                                              fahren\\n                                                  en\\n                                         über\\n                            die V\\n                                Ver\\n                                 erfassungsbesch\\n                                    fassungsbeschwer\\n                   ...</td>\n",
       "      <td>https://www.bundesverfassungsgericht.de/SharedDocs/Entscheidungen/DE/2009/02/rk20090224_1bvr018909.html</td>\n",
       "      <td>die Verfassungsbeschwerde 1. der Frau W…, 2. des Herrn H…, 3. des H…, Joseph gegen a) den Beschluss des Hessischen Verwaltungsgerichtshofs vom , b) den Beschluss des Hessischen Verwaltungsgerichtshofs vom , c) den Beschluss des Hessischen Verwaltungsgerichtshofs vom , d) den Beschluss des Hessischen Verwaltungsgerichtshofs vom hat die 3. Kammer des Ersten Senats des Bundesverfassungsgerichts durch den Präsidenten Papier und die Richter Bryde, Schluckebier gemäß § 93b in Verbindung mit § 93a ...</td>\n",
       "      <td>[§ 93b in Verbindung mit § 93a BVerfGG, § 80 Abs. 5 VwGO, Art. 103 Abs. 1 und des Rechts auf den gesetzlichen Richter aus Art. 101 Abs. 1 Satz 2 GG, § 93a Abs. 2 BVerfGG, § 90 Abs. 1 BVerfGG, Art. 103 Abs. 1 GG, Art. 103 Abs. 1 GG, Art. 103 Abs. 1 GG, Art. 103 Abs. 1 GG, Art. 103 Abs. 1 GG, Art. 103 Abs. 1 GG, Art. 103 Abs. 1 GG, Art. 103 Abs. 1 GG, Art. 103 Abs. 1 GG, § 152a Abs. 5 Satz 1 VwGO, § 21g GVG, § 321a ZPO, Art. 101 Abs. 1 Satz 2 GG, § 93d Abs. 1 Satz 3 BVerfGG]</td>\n",
       "      <td>die Verfassungsbeschwerde der Frau des Herrn des Joseph gegen den Beschluss des Hessischen Verwaltungsgerichtshofs vom den Beschluss des Hessischen Verwaltungsgerichtshofs vom den Beschluss des Hessischen Verwaltungsgerichtshofs vom den Beschluss des Hessischen Verwaltungsgerichtshofs vom hat die Kammer des Ersten Senats des Bundesverfassungsgerichts durch den Präsidenten Papier und die Richter Bryde Schluckebier gemäß in Verbindung mit BVerfGG in der Fassung der Bekanntmachung vom am einsti...</td>\n",
       "    </tr>\n",
       "  </tbody>\n",
       "</table>\n",
       "</div>"
      ],
      "text/plain": [
       "                                                                                                                                                                                                                                                                                                                                                                                                                                                                                                                  text  \\\n",
       "0  BUNDES\\nBUNDESVERF\\n       VERFASSUNGSGERICHT\\n           ASSUNGSGERICHT\\n\\n- 2 BvR 1252/99 -\\n\\n- 2 BvR 1253/99 -\\n\\n- 2 BvR 1254/99 -\\n\\n- 2 BvR 1255/99 -\\n\\n- 2 BvR 1256/99 -\\n\\n- 2 BvR 1257/99 -\\n\\n                                   In den VVer\\n                                            erfahr\\n                                               fahren\\n                                                   en\\n                                          über\\n                             die V\\n...   \n",
       "1  BUNDESVERFASSUNGSGERICHT\\n\\n- 1 BvR 189/09 -\\n\\n                                  In dem VVer\\n                                           erfahr\\n                                              fahren\\n                                                  en\\n                                         über\\n                            die V\\n                                Ver\\n                                 erfassungsbesch\\n                                    fassungsbeschwer\\n                   ...   \n",
       "\n",
       "                                                                                                  url_html  \\\n",
       "0  https://www.bundesverfassungsgericht.de/SharedDocs/Entscheidungen/DE/2001/07/rk20010718_2bvr125299.html   \n",
       "1  https://www.bundesverfassungsgericht.de/SharedDocs/Entscheidungen/DE/2009/02/rk20090224_1bvr018909.html   \n",
       "\n",
       "                                                                                                                                                                                                                                                                                                                                                                                                                                                                                                       clean_w_numbers  \\\n",
       "0  die Verfassungsbeschwerden 1. des Herrn H. , 2. des Herrn E. , 3. des Herrn Josef S. , 4. des Herrn Prof. Dr. 2 BvR 1255/99 Josef G. , 6. des Herrn Willi W. gegen Artikel 1 des Gesetzes zur Neueinteilung der Wahlkreise für die Wahl zum Deutschen Bundestag vom Juli 1998 in Verbindung mit der Anlage zu § 2 Absatz 2 des Bundeswahlgesetzes, als danach der bisherige Wahlkreis 79 in die Wahlkreise 111 aufgeteilt wird hat die 4. Kammer des Zweiten Senats des Bundesverfassungs­gerichts durch die Ric...   \n",
       "1  die Verfassungsbeschwerde 1. der Frau W…, 2. des Herrn H…, 3. des H…, Joseph gegen a) den Beschluss des Hessischen Verwaltungsgerichtshofs vom , b) den Beschluss des Hessischen Verwaltungsgerichtshofs vom , c) den Beschluss des Hessischen Verwaltungsgerichtshofs vom , d) den Beschluss des Hessischen Verwaltungsgerichtshofs vom hat die 3. Kammer des Ersten Senats des Bundesverfassungsgerichts durch den Präsidenten Papier und die Richter Bryde, Schluckebier gemäß § 93b in Verbindung mit § 93a ...   \n",
       "\n",
       "                                                                                                                                                                                                                                                                                                                                                                                                                                                                                                      gesetzesverweise  \\\n",
       "0  [§ 2 Absatz 2 des Bundeswahlgesetzes, als danach der bisherige Wahlkreis 79 in die Wahlkreise 111 aufgeteilt wird hat die 4. Kammer des Zweiten Senats des Bundesverfassungs­gerichts durch die Richterin Präsidentin Limbach und die Richter Jentsch, Di Fabio gemäß § 93b in Verbindung mit § 93a BVerfGG, Art. 38 Abs. 1 Satz 1 GG, § 93a Abs. 2 BVerfGG, §§ 92, 23 Abs. 1 Satz 2 BVerfGG, § 21 Abs. 1 BWahlG, Art. 38 Abs. 1 GG, Art. 3 Abs. 1 GG, Art. 38 Abs. 1 Satz 1 GG, § 3 Abs. 1 BWahlG, § 3 Abs. 1 B...   \n",
       "1                        [§ 93b in Verbindung mit § 93a BVerfGG, § 80 Abs. 5 VwGO, Art. 103 Abs. 1 und des Rechts auf den gesetzlichen Richter aus Art. 101 Abs. 1 Satz 2 GG, § 93a Abs. 2 BVerfGG, § 90 Abs. 1 BVerfGG, Art. 103 Abs. 1 GG, Art. 103 Abs. 1 GG, Art. 103 Abs. 1 GG, Art. 103 Abs. 1 GG, Art. 103 Abs. 1 GG, Art. 103 Abs. 1 GG, Art. 103 Abs. 1 GG, Art. 103 Abs. 1 GG, Art. 103 Abs. 1 GG, § 152a Abs. 5 Satz 1 VwGO, § 21g GVG, § 321a ZPO, Art. 101 Abs. 1 Satz 2 GG, § 93d Abs. 1 Satz 3 BVerfGG]   \n",
       "\n",
       "                                                                                                                                                                                                                                                                                                                                                                                                                                                                                                      clean_wo_numbers  \n",
       "0  die Verfassungsbeschwerden des Herrn des Herrn des Herrn Josef des Herrn Prof Dr BvR Josef des Herrn Willi gegen Artikel des Gesetzes zur Neueinteilung der Wahlkreise für die Wahl zum Deutschen Bundestag vom Juli in Verbindung mit der Anlage zu Absatz des Bundeswahlgesetzes als danach der bisherige Wahlkreis in die Wahlkreise aufgeteilt wird hat die Kammer des Zweiten Senats des Bundesverfassungsgerichts durch die Richterin Präsidentin Limbach und die Richter Jentsch Di Fabio gemäß in Verbin...  \n",
       "1  die Verfassungsbeschwerde der Frau des Herrn des Joseph gegen den Beschluss des Hessischen Verwaltungsgerichtshofs vom den Beschluss des Hessischen Verwaltungsgerichtshofs vom den Beschluss des Hessischen Verwaltungsgerichtshofs vom den Beschluss des Hessischen Verwaltungsgerichtshofs vom hat die Kammer des Ersten Senats des Bundesverfassungsgerichts durch den Präsidenten Papier und die Richter Bryde Schluckebier gemäß in Verbindung mit BVerfGG in der Fassung der Bekanntmachung vom am einsti...  "
      ]
     },
     "execution_count": 57,
     "metadata": {},
     "output_type": "execute_result"
    }
   ],
   "source": [
    "df_nlp_finalV = df_nlp_final.drop([\"text_clean\"], axis=1)\n",
    "df_nlp_finalV = df_nlp_finalV.rename(columns={\"text_clean2\": \"clean_w_numbers\"})\n",
    "df_nlp_finalV.head(2)"
   ]
  },
  {
   "cell_type": "code",
   "execution_count": 63,
   "metadata": {},
   "outputs": [],
   "source": [
    "# Add original columns that are interesting\n",
    "df_nlp_finalV2 = df_nlp_finalV.merge(df_drop[[\"datum\", \"entscheidungsjahr\", \"entscheidung_typ\", \"spruchkoerper_typ\", \"spruchkoerper_az\", \"registerzeichen\", \"pressemitteilung\"]], left_index=True, right_index=True)\n",
    "df_nlp_finalV2 = df_nlp_finalV2.merge(df[[\"richter\"]], left_index=True, right_index=True)"
   ]
  },
  {
   "cell_type": "code",
   "execution_count": 64,
   "metadata": {},
   "outputs": [
    {
     "data": {
      "text/plain": [
       "text                    0\n",
       "url_html                0\n",
       "clean_w_numbers         0\n",
       "gesetzesverweise     1360\n",
       "clean_wo_numbers        0\n",
       "datum                   0\n",
       "entscheidungsjahr       0\n",
       "entscheidung_typ        0\n",
       "spruchkoerper_typ       0\n",
       "spruchkoerper_az        0\n",
       "registerzeichen         0\n",
       "pressemitteilung     6870\n",
       "richter                24\n",
       "dtype: int64"
      ]
     },
     "execution_count": 64,
     "metadata": {},
     "output_type": "execute_result"
    }
   ],
   "source": [
    "df_nlp_finalV2.isna().sum()"
   ]
  },
  {
   "cell_type": "code",
   "execution_count": 65,
   "metadata": {},
   "outputs": [
    {
     "data": {
      "text/html": [
       "<div>\n",
       "<style scoped>\n",
       "    .dataframe tbody tr th:only-of-type {\n",
       "        vertical-align: middle;\n",
       "    }\n",
       "\n",
       "    .dataframe tbody tr th {\n",
       "        vertical-align: top;\n",
       "    }\n",
       "\n",
       "    .dataframe thead th {\n",
       "        text-align: right;\n",
       "    }\n",
       "</style>\n",
       "<table border=\"1\" class=\"dataframe\">\n",
       "  <thead>\n",
       "    <tr style=\"text-align: right;\">\n",
       "      <th></th>\n",
       "      <th>text</th>\n",
       "      <th>url_html</th>\n",
       "      <th>clean_w_numbers</th>\n",
       "      <th>gesetzesverweise</th>\n",
       "      <th>clean_wo_numbers</th>\n",
       "      <th>datum</th>\n",
       "      <th>entscheidungsjahr</th>\n",
       "      <th>entscheidung_typ</th>\n",
       "      <th>spruchkoerper_typ</th>\n",
       "      <th>spruchkoerper_az</th>\n",
       "      <th>registerzeichen</th>\n",
       "      <th>pressemitteilung</th>\n",
       "      <th>richter</th>\n",
       "    </tr>\n",
       "  </thead>\n",
       "  <tbody>\n",
       "    <tr>\n",
       "      <th>0</th>\n",
       "      <td>BUNDES\\nBUNDESVERF\\n       VERFASSUNGSGERICHT\\n           ASSUNGSGERICHT\\n\\n- 2 BvR 1252/99 -\\n\\n- 2 BvR 1253/99 -\\n\\n- 2 BvR 1254/99 -\\n\\n- 2 BvR 1255/99 -\\n\\n- 2 BvR 1256/99 -\\n\\n- 2 BvR 1257/99 -\\n\\n                                   In den VVer\\n                                            erfahr\\n                                               fahren\\n                                                   en\\n                                          über\\n                             die V\\n...</td>\n",
       "      <td>https://www.bundesverfassungsgericht.de/SharedDocs/Entscheidungen/DE/2001/07/rk20010718_2bvr125299.html</td>\n",
       "      <td>die Verfassungsbeschwerden 1. des Herrn H. , 2. des Herrn E. , 3. des Herrn Josef S. , 4. des Herrn Prof. Dr. 2 BvR 1255/99 Josef G. , 6. des Herrn Willi W. gegen Artikel 1 des Gesetzes zur Neueinteilung der Wahlkreise für die Wahl zum Deutschen Bundestag vom Juli 1998 in Verbindung mit der Anlage zu § 2 Absatz 2 des Bundeswahlgesetzes, als danach der bisherige Wahlkreis 79 in die Wahlkreise 111 aufgeteilt wird hat die 4. Kammer des Zweiten Senats des Bundesverfassungs­gerichts durch die Ric...</td>\n",
       "      <td>[§ 2 Absatz 2 des Bundeswahlgesetzes, als danach der bisherige Wahlkreis 79 in die Wahlkreise 111 aufgeteilt wird hat die 4. Kammer des Zweiten Senats des Bundesverfassungs­gerichts durch die Richterin Präsidentin Limbach und die Richter Jentsch, Di Fabio gemäß § 93b in Verbindung mit § 93a BVerfGG, Art. 38 Abs. 1 Satz 1 GG, § 93a Abs. 2 BVerfGG, §§ 92, 23 Abs. 1 Satz 2 BVerfGG, § 21 Abs. 1 BWahlG, Art. 38 Abs. 1 GG, Art. 3 Abs. 1 GG, Art. 38 Abs. 1 Satz 1 GG, § 3 Abs. 1 BWahlG, § 3 Abs. 1 B...</td>\n",
       "      <td>die Verfassungsbeschwerden des Herrn des Herrn des Herrn Josef des Herrn Prof Dr BvR Josef des Herrn Willi gegen Artikel des Gesetzes zur Neueinteilung der Wahlkreise für die Wahl zum Deutschen Bundestag vom Juli in Verbindung mit der Anlage zu Absatz des Bundeswahlgesetzes als danach der bisherige Wahlkreis in die Wahlkreise aufgeteilt wird hat die Kammer des Zweiten Senats des Bundesverfassungsgerichts durch die Richterin Präsidentin Limbach und die Richter Jentsch Di Fabio gemäß in Verbin...</td>\n",
       "      <td>1951-09-09</td>\n",
       "      <td>1951</td>\n",
       "      <td>B</td>\n",
       "      <td>S</td>\n",
       "      <td>2</td>\n",
       "      <td>BvQ</td>\n",
       "      <td>NaN</td>\n",
       "      <td>Dr. Katz|Dr. Fröhlich|Wolff|Dr. Roediger|Dr. Klaas|Henneka|Dr. Friesenhahn|Dr. Rupp|Dr. Geiger|Leuser|Dr. Federer</td>\n",
       "    </tr>\n",
       "  </tbody>\n",
       "</table>\n",
       "</div>"
      ],
      "text/plain": [
       "                                                                                                                                                                                                                                                                                                                                                                                                                                                                                                                  text  \\\n",
       "0  BUNDES\\nBUNDESVERF\\n       VERFASSUNGSGERICHT\\n           ASSUNGSGERICHT\\n\\n- 2 BvR 1252/99 -\\n\\n- 2 BvR 1253/99 -\\n\\n- 2 BvR 1254/99 -\\n\\n- 2 BvR 1255/99 -\\n\\n- 2 BvR 1256/99 -\\n\\n- 2 BvR 1257/99 -\\n\\n                                   In den VVer\\n                                            erfahr\\n                                               fahren\\n                                                   en\\n                                          über\\n                             die V\\n...   \n",
       "\n",
       "                                                                                                  url_html  \\\n",
       "0  https://www.bundesverfassungsgericht.de/SharedDocs/Entscheidungen/DE/2001/07/rk20010718_2bvr125299.html   \n",
       "\n",
       "                                                                                                                                                                                                                                                                                                                                                                                                                                                                                                       clean_w_numbers  \\\n",
       "0  die Verfassungsbeschwerden 1. des Herrn H. , 2. des Herrn E. , 3. des Herrn Josef S. , 4. des Herrn Prof. Dr. 2 BvR 1255/99 Josef G. , 6. des Herrn Willi W. gegen Artikel 1 des Gesetzes zur Neueinteilung der Wahlkreise für die Wahl zum Deutschen Bundestag vom Juli 1998 in Verbindung mit der Anlage zu § 2 Absatz 2 des Bundeswahlgesetzes, als danach der bisherige Wahlkreis 79 in die Wahlkreise 111 aufgeteilt wird hat die 4. Kammer des Zweiten Senats des Bundesverfassungs­gerichts durch die Ric...   \n",
       "\n",
       "                                                                                                                                                                                                                                                                                                                                                                                                                                                                                                      gesetzesverweise  \\\n",
       "0  [§ 2 Absatz 2 des Bundeswahlgesetzes, als danach der bisherige Wahlkreis 79 in die Wahlkreise 111 aufgeteilt wird hat die 4. Kammer des Zweiten Senats des Bundesverfassungs­gerichts durch die Richterin Präsidentin Limbach und die Richter Jentsch, Di Fabio gemäß § 93b in Verbindung mit § 93a BVerfGG, Art. 38 Abs. 1 Satz 1 GG, § 93a Abs. 2 BVerfGG, §§ 92, 23 Abs. 1 Satz 2 BVerfGG, § 21 Abs. 1 BWahlG, Art. 38 Abs. 1 GG, Art. 3 Abs. 1 GG, Art. 38 Abs. 1 Satz 1 GG, § 3 Abs. 1 BWahlG, § 3 Abs. 1 B...   \n",
       "\n",
       "                                                                                                                                                                                                                                                                                                                                                                                                                                                                                                      clean_wo_numbers  \\\n",
       "0  die Verfassungsbeschwerden des Herrn des Herrn des Herrn Josef des Herrn Prof Dr BvR Josef des Herrn Willi gegen Artikel des Gesetzes zur Neueinteilung der Wahlkreise für die Wahl zum Deutschen Bundestag vom Juli in Verbindung mit der Anlage zu Absatz des Bundeswahlgesetzes als danach der bisherige Wahlkreis in die Wahlkreise aufgeteilt wird hat die Kammer des Zweiten Senats des Bundesverfassungsgerichts durch die Richterin Präsidentin Limbach und die Richter Jentsch Di Fabio gemäß in Verbin...   \n",
       "\n",
       "       datum  entscheidungsjahr entscheidung_typ spruchkoerper_typ  \\\n",
       "0 1951-09-09               1951                B                 S   \n",
       "\n",
       "   spruchkoerper_az registerzeichen pressemitteilung  \\\n",
       "0                 2             BvQ              NaN   \n",
       "\n",
       "                                                                                                             richter  \n",
       "0  Dr. Katz|Dr. Fröhlich|Wolff|Dr. Roediger|Dr. Klaas|Henneka|Dr. Friesenhahn|Dr. Rupp|Dr. Geiger|Leuser|Dr. Federer  "
      ]
     },
     "execution_count": 65,
     "metadata": {},
     "output_type": "execute_result"
    }
   ],
   "source": [
    "df_nlp_finalV2.head(1)"
   ]
  },
  {
   "cell_type": "code",
   "execution_count": 67,
   "metadata": {},
   "outputs": [
    {
     "data": {
      "text/plain": [
       "Index(['text', 'url_html', 'clean_w_numbers', 'gesetzesverweise',\n",
       "       'clean_wo_numbers', 'datum', 'entscheidungsjahr', 'entscheidung_typ',\n",
       "       'spruchkoerper_typ', 'spruchkoerper_az', 'registerzeichen',\n",
       "       'pressemitteilung', 'richter'],\n",
       "      dtype='object')"
      ]
     },
     "execution_count": 67,
     "metadata": {},
     "output_type": "execute_result"
    }
   ],
   "source": [
    "df_nlp_finalV2.columns"
   ]
  },
  {
   "cell_type": "code",
   "execution_count": 66,
   "metadata": {},
   "outputs": [],
   "source": [
    "# Safe df before continueing:\n",
    "df_nlp_finalV2.to_csv(r'data\\df_text_clean.csv', index=False)"
   ]
  }
 ],
 "metadata": {
  "kernelspec": {
   "display_name": "Python 3",
   "language": "python",
   "name": "python3"
  },
  "language_info": {
   "codemirror_mode": {
    "name": "ipython",
    "version": 3
   },
   "file_extension": ".py",
   "mimetype": "text/x-python",
   "name": "python",
   "nbconvert_exporter": "python",
   "pygments_lexer": "ipython3",
   "version": "3.11.4"
  }
 },
 "nbformat": 4,
 "nbformat_minor": 2
}
