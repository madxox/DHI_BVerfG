{
 "cells": [
  {
   "cell_type": "markdown",
   "metadata": {},
   "source": [
    "### Datensatz Notizen\n",
    "- Enthält nur Senatsentscheidungen und begründete Kammerbeschlüsse\n",
    "- hex: #ca2129\n",
    "- CSV_Metadaten: quantitative Forschung ohne Entscheidungstexte\n",
    "- CSV_Segmentiert: Volltext unterteilt in Leitsätze, Entscheidungsformel und ähnlichem; Nummerierung i.d.R. = Nummerierung der PDF-Fassung"
   ]
  },
  {
   "cell_type": "markdown",
   "metadata": {
    "vscode": {
     "languageId": "plaintext"
    }
   },
   "source": [
    "#### Erläuterung der Variablen\n",
    "\n",
    "- segment: segmentarten sind »leitsatz« (Leitsätze), »gegenstand« (Entscheidungsgegenstand), »formel« (Entscheidungsformel), »tenor« (Tenor), »gruende« (Entscheidungsgründe, ggf. mit Anmerkung ob Sondervotum) und »unterschriften« (Unterschriften der Richter:innen)\n",
    "- spruchkoerper_az: entweder 1 oder 2; Verzögerungen mit NA markiert\n",
    "    - Entscheidungen eines bestimmten Senats werden mit spruchkoerper_typ auf S und dem Aktenzeichen des Spruchkörpers gefunden\n",
    "- registerzeichen\n",
    "- verfahrensart\n",
    "- eingangsnummer\n",
    "- kollision: Entscheidungen am selben Tag\n",
    "\n"
   ]
  },
  {
   "cell_type": "markdown",
   "metadata": {},
   "source": [
    "Variablen, die gedroppt werden können:\n",
    "- gericht\n",
    "- bverfge: boolean ob entscheidung in amtlicher Sammlung enthalten ist\n",
    "- band: band der amtlichen Sammlung\n",
    "- seite: genaue Fundstelle (Seitenzahl) der Entscheidung, nur sinnvoll wenn band gegeben ist\n",
    "- aktenzeichen/aktenzeichen_alle: amtliche Aktenzeichen im Format\n",
    "- ECLI nur bei joining sinnvoll\n",
    "- zitiervorschlag \n",
    "- pressemitteilung falls vorhanden\n",
    "- praesi; nachname der Präsident/in die das Datum der Entscheidung fällt\n",
    "- v_praesi\n",
    "- doi_...\n",
    "- lizenz"
   ]
  }
 ],
 "metadata": {
  "language_info": {
   "name": "python"
  }
 },
 "nbformat": 4,
 "nbformat_minor": 2
}
